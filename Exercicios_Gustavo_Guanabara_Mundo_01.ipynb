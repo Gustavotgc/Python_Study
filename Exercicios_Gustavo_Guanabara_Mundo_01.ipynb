{
  "cells": [
    {
      "cell_type": "markdown",
      "metadata": {
        "id": "view-in-github",
        "colab_type": "text"
      },
      "source": [
        "<a href=\"https://colab.research.google.com/github/Gustavotgc/Python_Study/blob/main/Exercicios_Gustavo_Guanabara_Mundo_01.ipynb\" target=\"_parent\"><img src=\"https://colab.research.google.com/assets/colab-badge.svg\" alt=\"Open In Colab\"/></a>"
      ]
    },
    {
      "cell_type": "markdown",
      "metadata": {
        "id": "FynDzqShXgnP"
      },
      "source": [
        "# Primeiros Passos com o Python"
      ]
    },
    {
      "cell_type": "markdown",
      "metadata": {
        "id": "l7fqVefZTlCA"
      },
      "source": [
        "## Desafio 001\n",
        "\n",
        "\n",
        "```\n",
        "# Crie um programa que escreva \"Olá, Mundo!\" na tela.\n",
        "```\n",
        "\n",
        "\n"
      ]
    },
    {
      "cell_type": "code",
      "source": [
        "# Um outro teste, agora o número dois."
      ],
      "metadata": {
        "id": "bMegZ1nFAB3c"
      },
      "execution_count": null,
      "outputs": []
    },
    {
      "cell_type": "code",
      "execution_count": null,
      "metadata": {
        "colab": {
          "base_uri": "https://localhost:8080/"
        },
        "id": "hyzQywzTTaCS",
        "outputId": "2eeb4785-c5c0-4c82-d66e-4c33942cdaaa"
      },
      "outputs": [
        {
          "name": "stdout",
          "output_type": "stream",
          "text": [
            "Olá, Mundo!\n"
          ]
        }
      ],
      "source": [
        "print(\"Olá, Mundo!\")"
      ]
    },
    {
      "cell_type": "code",
      "execution_count": null,
      "metadata": {
        "colab": {
          "base_uri": "https://localhost:8080/"
        },
        "id": "R9Ab386IUO6q",
        "outputId": "cfbb18a0-f9ab-4a43-9037-a1bca6c18206"
      },
      "outputs": [
        {
          "name": "stdout",
          "output_type": "stream",
          "text": [
            "Olá, Mundo!\n"
          ]
        }
      ],
      "source": [
        "variavel = 'Olá, Mundo!'\n",
        "print(variavel)"
      ]
    },
    {
      "cell_type": "markdown",
      "metadata": {
        "id": "4fvjQUCLU2cX"
      },
      "source": [
        "## Desafio 002\n",
        "\n",
        "\n",
        "\n",
        "```\n",
        "# Faça um programa que leia o nome de uma pessoa e mostre uma mensagem de boas-vindas.\n",
        "```\n",
        "\n"
      ]
    },
    {
      "cell_type": "code",
      "execution_count": null,
      "metadata": {
        "colab": {
          "base_uri": "https://localhost:8080/"
        },
        "id": "Uxz9HVScVlTn",
        "outputId": "e4ff7a31-265b-49f4-c8ef-d08d4fe47cc9"
      },
      "outputs": [
        {
          "name": "stdout",
          "output_type": "stream",
          "text": [
            "Qual o seu nome? Beatriz\n",
            "\n",
            "=-=-=-=-=-=-=-=-=-=-=-=-=-=-=-=-=-=-=-=-\n",
            "\n",
            "Seja muito bem vindo(a) Beatriz!\n"
          ]
        }
      ],
      "source": [
        "msg = str(input('Qual o seu nome? '))\n",
        "print()\n",
        "print('=-'*20)\n",
        "print()\n",
        "print(f'Seja muito bem vindo(a) {msg}!')\n",
        "print('Teste no Visual Studio Code')"
      ]
    },
    {
      "cell_type": "code",
      "execution_count": null,
      "metadata": {
        "colab": {
          "base_uri": "https://localhost:8080/"
        },
        "id": "S0ufAVYUWvcL",
        "outputId": "177e190e-623f-4449-8369-8453de3f7e51"
      },
      "outputs": [
        {
          "name": "stdout",
          "output_type": "stream",
          "text": [
            "Qual o seu nome? João\n",
            "\n",
            "==============================\n",
            "\n",
            "Seja muito bem vindo(a) João!\n"
          ]
        }
      ],
      "source": [
        "msg2 = str(input('Qual o seu nome? '))\n",
        "print()\n",
        "print('=' * 30)\n",
        "print()\n",
        "print('Seja muito bem vindo(a) {}!'.format(msg2))"
      ]
    },
    {
      "cell_type": "markdown",
      "metadata": {
        "id": "0NJp02tsXQwl"
      },
      "source": [
        "# Tratando Dados e Fazendo Contas"
      ]
    },
    {
      "cell_type": "markdown",
      "metadata": {
        "id": "SI2snjueX3Ri"
      },
      "source": [
        "## Tipos Primitivos e Saída de Dados"
      ]
    },
    {
      "cell_type": "code",
      "execution_count": null,
      "metadata": {
        "id": "y0wWVyR_adD5"
      },
      "outputs": [],
      "source": []
    },
    {
      "cell_type": "code",
      "execution_count": null,
      "metadata": {
        "id": "Yb7hrBM7Yc90"
      },
      "outputs": [],
      "source": [
        "n1 = input('Digite um número: ')\n",
        "n2 = input('Digite mais um número: ')\n",
        "soma = n1 + n2\n",
        "print('A soma dos números digitados é {}.'.format(soma))\n",
        "# Nesse caso o sinal de \"+\" tem a função de concatenar, pois a função input é originalmente uma string (texto)."
      ]
    },
    {
      "cell_type": "code",
      "execution_count": null,
      "metadata": {
        "id": "MhpjYSLtZFw-"
      },
      "outputs": [],
      "source": [
        "n1 = int(input('Digite um número: '))\n",
        "n2 = int(input('Digite mais um número: '))\n",
        "soma = n1 + n2\n",
        "print('A soma dos números digitados é {}.'.format(soma))\n",
        "# Uma alternativa de ajustar é colocar os inputs dentra função int()."
      ]
    },
    {
      "cell_type": "code",
      "execution_count": null,
      "metadata": {
        "id": "7dAf9PB6ZUeW"
      },
      "outputs": [],
      "source": [
        "n1 = input('Digite um número: ')\n",
        "n2 = input('Digite mais um número: ')\n",
        "soma = int(n1) + int(n2)\n",
        "print('A soma dos números digitados é {}.'.format(soma))\n",
        "# Uma alternativa de ajustar é colocar os inputs dentra função int()."
      ]
    },
    {
      "cell_type": "code",
      "execution_count": null,
      "metadata": {
        "colab": {
          "base_uri": "https://localhost:8080/"
        },
        "id": "E4LMe2zubAXa",
        "outputId": "83e86436-ff3d-4414-f42b-222f8b479b7a"
      },
      "outputs": [
        {
          "name": "stdout",
          "output_type": "stream",
          "text": [
            "Digite um número: 2\n",
            "Digite mais um número: 4\n",
            "A soma dos números 2 e 4 é 6.\n"
          ]
        }
      ],
      "source": [
        "n1 = input('Digite um número: ')\n",
        "n2 = input('Digite mais um número: ')\n",
        "soma = int(n1) + int(n2)\n",
        "print('A soma dos números {} e {} é {}.'.format(n1, n2, soma))"
      ]
    },
    {
      "cell_type": "code",
      "execution_count": null,
      "metadata": {
        "colab": {
          "base_uri": "https://localhost:8080/"
        },
        "id": "smTj8-vXbmLP",
        "outputId": "ab9b725a-ed62-4bad-bdb0-b88b5776a9c2"
      },
      "outputs": [
        {
          "name": "stdout",
          "output_type": "stream",
          "text": [
            "Digite um número: 8\n",
            "8.0\n",
            "<class 'float'>\n"
          ]
        }
      ],
      "source": [
        "n = float(input('Digite um número: '))\n",
        "print(n)\n",
        "print(type(n))"
      ]
    },
    {
      "cell_type": "code",
      "execution_count": null,
      "metadata": {
        "colab": {
          "base_uri": "https://localhost:8080/"
        },
        "id": "0Wi1SnsfcEsi",
        "outputId": "51ab48d6-c59d-4809-a78a-cae0b32f6d2c"
      },
      "outputs": [
        {
          "name": "stdout",
          "output_type": "stream",
          "text": [
            "Digite algo aí: 8\n",
            "True\n"
          ]
        }
      ],
      "source": [
        "n = input('Digite algo aí: ')\n",
        "print(n.isnumeric())"
      ]
    },
    {
      "cell_type": "code",
      "execution_count": null,
      "metadata": {
        "colab": {
          "base_uri": "https://localhost:8080/"
        },
        "id": "NC2kAWKLcdil",
        "outputId": "17a240d8-7ee2-4481-af0c-f7cc4201c576"
      },
      "outputs": [
        {
          "name": "stdout",
          "output_type": "stream",
          "text": [
            "Digite algo aí: Hsa\n",
            "False\n"
          ]
        }
      ],
      "source": [
        "n = input('Digite algo aí: ')\n",
        "print(n.isnumeric())\n",
        "\n",
        "# Existem vários \"IS\" que podem ser utilizados, por exemplo ISNUMERIC(), ISALPHA(), ISALNUM(), etc."
      ]
    },
    {
      "cell_type": "markdown",
      "metadata": {
        "id": "DF7Kmp8XWDNc"
      },
      "source": [
        "## Desafio 003\n",
        "\n",
        "\n",
        "\n",
        "```\n",
        "# Crie um programa que leia dois números e mostre a soma entre eles.\n",
        "```\n",
        "\n"
      ]
    },
    {
      "cell_type": "code",
      "execution_count": null,
      "metadata": {
        "colab": {
          "base_uri": "https://localhost:8080/"
        },
        "id": "Jf5zGriSdhBf",
        "outputId": "dc8a2230-1cd8-45f0-ff65-04ce4b4dbe5c"
      },
      "outputs": [
        {
          "name": "stdout",
          "output_type": "stream",
          "text": [
            "Digite um número: 124\n",
            "Digite mais um número: 36\n",
            "A soma dos números 124 e 36 é 160.\n"
          ]
        }
      ],
      "source": [
        "n1 = input('Digite um número inteiro: ')\n",
        "n2 = input('Digite mais um número inteiro: ')\n",
        "soma = int(n1) + int(n2)\n",
        "print('A soma dos números {} e {} é {}.'.format(n1, n2, soma))"
      ]
    },
    {
      "cell_type": "markdown",
      "metadata": {
        "id": "rjcbdfYNWV-3"
      },
      "source": [
        "## Desafio 004\n",
        "\n",
        "```\n",
        "# Faça um programa que leia algo pelo teclado e mostre na tela o seu tipo primitivo e todas as informações possíveis sobre ele.\n",
        "```\n",
        "\n"
      ]
    },
    {
      "cell_type": "code",
      "execution_count": null,
      "metadata": {
        "colab": {
          "base_uri": "https://localhost:8080/"
        },
        "id": "LgCqMAuIfKKL",
        "outputId": "40e08c83-7027-43b6-8bcb-38b2f140f4b4"
      },
      "outputs": [
        {
          "name": "stdout",
          "output_type": "stream",
          "text": [
            "Digite algo agora: Gustavo7\n",
            "O tipo primitivo desse valor é: <class 'str'>\n",
            "Esse valor é um número? False\n",
            "Tem apenas espaços no que foi digitado? False\n",
            "O valor é alfanumérico? True\n",
            "Esse valor é de apenas letras? False\n",
            "As letras estão todas maiúsculas? False\n",
            "Ou as letras estão todas minúsculas? False\n",
            "O valor esta capitalizado? True\n"
          ]
        }
      ],
      "source": [
        "n3 = input('Digite algo agora: ')\n",
        "print('O tipo primitivo desse valor é: {}'.format(type(n3)))\n",
        "print('Esse valor é um número? {}'.format(n3.isnumeric()))\n",
        "print('Tem apenas espaços no que foi digitado? {}'.format(n3.isspace()))\n",
        "print('O valor é alfanumérico? {}'.format(n3.isalnum()))\n",
        "print('Esse valor é de apenas letras? {}'.format(n3.isalpha()))\n",
        "print('As letras estão todas maiúsculas? {}'.format(n3.isupper()))\n",
        "print('Ou as letras estão todas minúsculas? {}'.format(n3.islower()))\n",
        "print('O valor esta capitalizado? {}'.format(n3.istitle()))"
      ]
    },
    {
      "cell_type": "markdown",
      "metadata": {
        "id": "MU5ui8yZjwTM"
      },
      "source": [
        "# Operadores Artiméticos"
      ]
    },
    {
      "cell_type": "code",
      "execution_count": null,
      "metadata": {
        "colab": {
          "base_uri": "https://localhost:8080/"
        },
        "id": "F_GNdGxDlq0V",
        "outputId": "a4f20267-27eb-4010-b1df-738f4a60a77f"
      },
      "outputs": [
        {
          "data": {
            "text/plain": [
              "2"
            ]
          },
          "execution_count": 34,
          "metadata": {},
          "output_type": "execute_result"
        }
      ],
      "source": [
        "# Divisão por INTEIRO\n",
        "5 // 2"
      ]
    },
    {
      "cell_type": "code",
      "execution_count": null,
      "metadata": {
        "colab": {
          "base_uri": "https://localhost:8080/"
        },
        "id": "d9vGdK4_lz1Y",
        "outputId": "a87ad087-38b4-499f-824a-8323a4322107"
      },
      "outputs": [
        {
          "data": {
            "text/plain": [
              "1"
            ]
          },
          "execution_count": 33,
          "metadata": {},
          "output_type": "execute_result"
        }
      ],
      "source": [
        "# RESTO da divisão\n",
        "5 % 2"
      ]
    },
    {
      "cell_type": "code",
      "execution_count": null,
      "metadata": {
        "colab": {
          "base_uri": "https://localhost:8080/"
        },
        "id": "f8iRUZ8xnSMo",
        "outputId": "81ca7a82-e7f4-45e7-fea0-78d472771ac4"
      },
      "outputs": [
        {
          "name": "stdout",
          "output_type": "stream",
          "text": [
            "Qual o seu nome? Gustavo\n",
            "Muito prazer em te conhecer Gustavo!\n"
          ]
        }
      ],
      "source": [
        "# Usando o print e formatando a máscara\n",
        "msg = input('Qual o seu nome? ')\n",
        "print('Muito prazer em te conhecer {}!'.format(msg))"
      ]
    },
    {
      "cell_type": "code",
      "execution_count": null,
      "metadata": {
        "colab": {
          "base_uri": "https://localhost:8080/"
        },
        "id": "ku0owsuio0JP",
        "outputId": "bc476765-b629-4ad4-9be0-84944a290c87"
      },
      "outputs": [
        {
          "name": "stdout",
          "output_type": "stream",
          "text": [
            "Qual o seu nome? Gustavo\n",
            "Muito prazer em teconhecer Gustavo=============!\n"
          ]
        }
      ],
      "source": [
        "msg = input('Qual o seu nome? ')\n",
        "print('Muito prazer em teconhecer {:=<20}!'.format(msg))"
      ]
    },
    {
      "cell_type": "code",
      "execution_count": null,
      "metadata": {
        "colab": {
          "base_uri": "https://localhost:8080/"
        },
        "id": "JZiMLcJcpQFX",
        "outputId": "dbf223f6-2171-4774-dce1-6b5deba6b11e"
      },
      "outputs": [
        {
          "name": "stdout",
          "output_type": "stream",
          "text": [
            "Qual o seu nome? Gustavo\n",
            "Muito prazer em teconhecer Gustavo             !\n"
          ]
        }
      ],
      "source": [
        "msg = input('Qual o seu nome? ')\n",
        "print('Muito prazer em teconhecer {:<20}!'.format(msg))"
      ]
    },
    {
      "cell_type": "code",
      "execution_count": null,
      "metadata": {
        "colab": {
          "base_uri": "https://localhost:8080/"
        },
        "id": "IRWMV17cpBuR",
        "outputId": "7e0ca6ac-7ded-49ac-e6de-47b463830411"
      },
      "outputs": [
        {
          "name": "stdout",
          "output_type": "stream",
          "text": [
            "Qual o seu nome? Gustavo\n",
            "Muito prazer em teconhecer =============Gustavo!\n"
          ]
        }
      ],
      "source": [
        "msg = input('Qual o seu nome? ')\n",
        "print('Muito prazer em teconhecer {:=>20}!'.format(msg))"
      ]
    },
    {
      "cell_type": "code",
      "execution_count": null,
      "metadata": {
        "colab": {
          "base_uri": "https://localhost:8080/"
        },
        "id": "qb82eY1YpYFI",
        "outputId": "6a004db6-0233-417c-a57b-3b7dfb057bea"
      },
      "outputs": [
        {
          "name": "stdout",
          "output_type": "stream",
          "text": [
            "Qual o seu nome? Gustavo\n",
            "Muito prazer em teconhecer              Gustavo!\n"
          ]
        }
      ],
      "source": [
        "msg = input('Qual o seu nome? ')\n",
        "print('Muito prazer em teconhecer {:>20}!'.format(msg))"
      ]
    },
    {
      "cell_type": "code",
      "execution_count": null,
      "metadata": {
        "colab": {
          "base_uri": "https://localhost:8080/"
        },
        "id": "hR8EzrH_pLUf",
        "outputId": "e8604de1-5e70-4fad-8f27-3ab0de9697ae"
      },
      "outputs": [
        {
          "name": "stdout",
          "output_type": "stream",
          "text": [
            "Qual o seu nome? Gustavo\n",
            "Muito prazer em teconhecer ======Gustavo=======!\n"
          ]
        }
      ],
      "source": [
        "# O ^ (acento circunflexo) centraliza dentro dos 20 espaço ou caracteres que eu colocar dentro das chaves\n",
        "msg = input('Qual o seu nome? ')\n",
        "print('Muito prazer em teconhecer {:=^20}!'.format(msg))"
      ]
    },
    {
      "cell_type": "code",
      "execution_count": null,
      "metadata": {
        "colab": {
          "base_uri": "https://localhost:8080/"
        },
        "id": "N70VLGdkpd3X",
        "outputId": "4027a5f5-f196-4946-9ced-eda0ef0eec3e"
      },
      "outputs": [
        {
          "name": "stdout",
          "output_type": "stream",
          "text": [
            "Qual o seu nome? Gustavo\n",
            "Muito prazer em teconhecer       Gustavo       !\n"
          ]
        }
      ],
      "source": [
        "msg = input('Qual o seu nome? ')\n",
        "print('Muito prazer em teconhecer {:^20}!'.format(msg))"
      ]
    },
    {
      "cell_type": "markdown",
      "metadata": {
        "id": "2-rmHvnZWWc4"
      },
      "source": [
        "## Desafio 005\n",
        "\n",
        "```\n",
        "# Faça um programa que leia um número Inteiro e mostre na tela o seu sucessor e seu antecessor.\n",
        "```\n",
        "\n"
      ]
    },
    {
      "cell_type": "code",
      "execution_count": null,
      "metadata": {
        "colab": {
          "base_uri": "https://localhost:8080/"
        },
        "id": "Pav5u67Fp6fX",
        "outputId": "baa5de91-6766-47f9-a2d0-5a4445c45fd2"
      },
      "outputs": [
        {
          "name": "stdout",
          "output_type": "stream",
          "text": [
            "Digite um número inteiro: 87\n",
            "O número digitado foi 87. O antecessor é 86 e o sucessor é 88.\n"
          ]
        }
      ],
      "source": [
        "n = int(input('Digite um número inteiro: '))\n",
        "print('O número digitado foi {}. O antecessor é {} e o sucessor é {}.'.format(n, (n - 1), (n + 1)))"
      ]
    },
    {
      "cell_type": "markdown",
      "metadata": {
        "id": "y73hIJElWW7_"
      },
      "source": [
        "## Desafio 006\n",
        "\n",
        "```\n",
        "# Crie um algoritmo que leia um número e mostre o seu dobro, triplo e raiz quadrada.\n",
        "```\n",
        "\n"
      ]
    },
    {
      "cell_type": "code",
      "execution_count": null,
      "metadata": {
        "colab": {
          "base_uri": "https://localhost:8080/"
        },
        "id": "T4Efr4UUqbLf",
        "outputId": "fcc2686e-6b9f-4095-94a6-0c49850cf966"
      },
      "outputs": [
        {
          "name": "stdout",
          "output_type": "stream",
          "text": [
            "Digite um número: 9\n",
            "O número digitado foi 9.0. O dobro de 9.0 é 18.0, o triplo é 27.0 e, por último, a raíz quadrada é 3.0\n"
          ]
        }
      ],
      "source": [
        "num = float(input('Digite um número: '))\n",
        "print('O número digitado foi {}. O dobro de {} é {}, o triplo é {} e, por último, a raíz quadrada é {}'. format(num, num, num * 2, num * 3, num ** (1/2)))"
      ]
    },
    {
      "cell_type": "markdown",
      "metadata": {
        "id": "kgI-ZE2WWXG_"
      },
      "source": [
        "## Desafio 007\n",
        "\n",
        "```\n",
        "# Desenvolva um programa que leia as duas notas de um aluno, calcule e mostre a sua média.\n",
        "```\n",
        "\n"
      ]
    },
    {
      "cell_type": "code",
      "execution_count": null,
      "metadata": {
        "colab": {
          "base_uri": "https://localhost:8080/"
        },
        "id": "36Ep6W9JrdC3",
        "outputId": "90c3e7a7-8964-42c3-84ca-50309d781c74"
      },
      "outputs": [
        {
          "name": "stdout",
          "output_type": "stream",
          "text": [
            "Qual a 1ª nota? 8\n",
            "Qual a 2ª nota? 4\n",
            "A 1ª nota foi 8.0, a 2ª nota 4.0, portanto a média é 6.0.\n"
          ]
        }
      ],
      "source": [
        "nota1 = float(input('Qual a 1ª nota? '))\n",
        "nota2 = float(input('Qual a 2ª nota? '))\n",
        "media = (nota1 + nota2) / 2\n",
        "print('A 1ª nota foi {}, a 2ª nota {}, portanto a média é {}.'.format(nota1, nota2, media))"
      ]
    },
    {
      "cell_type": "markdown",
      "metadata": {
        "id": "2gacuNVXWXPv"
      },
      "source": [
        "## Desafio 008\n",
        "\n",
        "```\n",
        "# Escreva um programa que leia um valor em metros e o exiba convertido em centímetros e milímetros.\n",
        "```\n",
        "\n"
      ]
    },
    {
      "cell_type": "code",
      "execution_count": null,
      "metadata": {
        "colab": {
          "base_uri": "https://localhost:8080/"
        },
        "id": "SRXuiug7sAJ9",
        "outputId": "3cdd3603-a4d6-425c-a50e-63bb802339ff"
      },
      "outputs": [
        {
          "name": "stdout",
          "output_type": "stream",
          "text": [
            "Quantos metros você quer converter em centímetros e milímetros? 5\n",
            "5.0 metro(s) correspondem a 500 centímetros e 5000 milímetros.\n"
          ]
        }
      ],
      "source": [
        "metros = float(input('Quantos metros você quer converter em centímetros e milímetros? '))\n",
        "centimetros = metros * 100 \n",
        "milimetros = centimetros * 10\n",
        "print('{} metro(s) correspondem a {:.0f} centímetros e {:.0f} milímetros.'.format(metros, centimetros, milimetros))"
      ]
    },
    {
      "cell_type": "markdown",
      "metadata": {
        "id": "I6NKDbqnWXWW"
      },
      "source": [
        "## Desafio 009\n",
        "\n",
        "```\n",
        "# Faça um programa que leia um número Inteiro qualquer e mostre na tela a sua tabuada.\n",
        "```\n",
        "\n"
      ]
    },
    {
      "cell_type": "code",
      "execution_count": null,
      "metadata": {
        "colab": {
          "base_uri": "https://localhost:8080/"
        },
        "id": "C983Nb7ktCsl",
        "outputId": "87607bad-d1be-490e-a670-b5c6639f4bf9"
      },
      "outputs": [
        {
          "name": "stdout",
          "output_type": "stream",
          "text": [
            "Digite o número que quer ver a tabuada até 10: 100\n",
            "==============================\n",
            "O número digitado foi 100\n",
            "==============================\n",
            "100 x  1 = 100\n",
            "100 x  2 = 200\n",
            "100 x  3 = 300\n",
            "100 x  4 = 400\n",
            "100 x  5 = 500\n",
            "100 x  6 = 600\n",
            "100 x  7 = 700\n",
            "100 x  8 = 800\n",
            "100 x  9 = 900\n",
            "100 x 10 = 1000\n"
          ]
        }
      ],
      "source": [
        "tab = int(input('Digite o número que quer ver a tabuada até 10: '))\n",
        "print('=' * 30)\n",
        "print('O número digitado foi {}'.format(tab))\n",
        "print('=' * 30)\n",
        "print('{:<2} x  1 = {:<2}'.format(tab, tab * 1))\n",
        "print('{:<2} x  2 = {:<2}'.format(tab, tab * 2))\n",
        "print('{:<2} x  3 = {:<2}'.format(tab, tab * 3))\n",
        "print('{:<2} x  4 = {:<2}'.format(tab, tab * 4))\n",
        "print('{:<2} x  5 = {:<2}'.format(tab, tab * 5))\n",
        "print('{:<2} x  6 = {:<2}'.format(tab, tab * 6))\n",
        "print('{:<2} x  7 = {:<2}'.format(tab, tab * 7))\n",
        "print('{:<2} x  8 = {:<2}'.format(tab, tab * 8))\n",
        "print('{:<2} x  9 = {:<2}'.format(tab, tab * 9))\n",
        "print('{:<2} x 10 = {:<2}'.format(tab, tab * 10))"
      ]
    },
    {
      "cell_type": "markdown",
      "metadata": {
        "id": "9NvytigEWXbu"
      },
      "source": [
        "## Desafio 010\n",
        "\n",
        "```\n",
        "# Crie um programa que leia quanto dinheiro uma pessoa tem na carteira e mostre quantos dólares ela pode comprar.\n",
        "```\n",
        "\n"
      ]
    },
    {
      "cell_type": "code",
      "execution_count": null,
      "metadata": {
        "colab": {
          "base_uri": "https://localhost:8080/"
        },
        "id": "ALyldu2TuSC1",
        "outputId": "68de890b-7cf8-4fe5-89e1-91817482aad9"
      },
      "outputs": [
        {
          "name": "stdout",
          "output_type": "stream",
          "text": [
            "Quanto dinheiro tem na carteira? R$: 10\n",
            "Com R$ 10.0 você poderá comprar U$$ 3.06.\n"
          ]
        }
      ],
      "source": [
        "dinheiro = float(input('Quanto dinheiro tem na carteira? R$: '))\n",
        "conversor = dinheiro / 3.27\n",
        "print('Com R$ {} você poderá comprar U$$ {:.2f}.'.format(dinheiro, conversor))"
      ]
    },
    {
      "cell_type": "markdown",
      "metadata": {
        "id": "v-ZWaO7TWXiu"
      },
      "source": [
        "## Desafio 011\n",
        "\n",
        "\n",
        "\n",
        "```\n",
        "# Faça um programa que leia a largura e a altura de uma parede em metros.\n",
        "Calcule a sua área e a quantidade de tinta necessária para pintá-la, sabendo que cada litro de tinta pinta uma área de 2 metros quadrados.\n",
        "```\n",
        "\n"
      ]
    },
    {
      "cell_type": "code",
      "execution_count": null,
      "metadata": {
        "colab": {
          "base_uri": "https://localhost:8080/"
        },
        "id": "PvlI8a-S3i5y",
        "outputId": "35296a3a-cc4b-4ed2-cece-b0c4af92bae7"
      },
      "outputs": [
        {
          "name": "stdout",
          "output_type": "stream",
          "text": [
            "Qual a altura da parede? 2.5\n",
            "Qual a largura da parede? 1.75\n",
            "A área da parede é 4.375 m².\n",
            "Você vai precisar de 2.1875 litros de tinta.\n"
          ]
        }
      ],
      "source": [
        "alt = float(input('Qual a altura da parede? '))\n",
        "larg = float(input('Qual a largura da parede? '))\n",
        "area = alt * larg\n",
        "tinta = area / 2\n",
        "print('A área da parede é {} m².'.format(area))\n",
        "print('Você vai precisar de {} litros de tinta.'.format(tinta))"
      ]
    },
    {
      "cell_type": "markdown",
      "metadata": {
        "id": "y9mxm_qFWXo-"
      },
      "source": [
        "## Desafio 012\n",
        "\n",
        "\n",
        "\n",
        "```\n",
        "# Faça um algoritmo que leia o preço de um produto e mostre seu novo preço, com 5% de desconto.\n",
        "```\n",
        "\n"
      ]
    },
    {
      "cell_type": "code",
      "execution_count": null,
      "metadata": {
        "colab": {
          "base_uri": "https://localhost:8080/"
        },
        "id": "4srH2pvc5khq",
        "outputId": "27174f47-34dd-4a9f-db3f-48b21fcf8e0e"
      },
      "outputs": [
        {
          "name": "stdout",
          "output_type": "stream",
          "text": [
            "Preço do produto: R$100\n",
            "O produto ficará R$95.0. O desconto total foi de R$5.0.\n"
          ]
        }
      ],
      "source": [
        "precoInicial = float(input('Preço do produto: R$'))\n",
        "desconto = (preco * 0.05)\n",
        "precoFinal = preco - desconto\n",
        "\n",
        "print('O produto ficará R${}. O desconto total foi de R${}.'.format(precoFinal, desconto))"
      ]
    },
    {
      "cell_type": "markdown",
      "metadata": {
        "id": "Za3ZyrB4WXuZ"
      },
      "source": [
        "## Desafio 013\n",
        "\n",
        "\n",
        "\n",
        "```\n",
        "# Faça um algoritmo que leia o salário de um funcionário e mostre seu novo salário, com 15% de aumento.\n",
        "```\n",
        "\n"
      ]
    },
    {
      "cell_type": "code",
      "execution_count": null,
      "metadata": {
        "colab": {
          "base_uri": "https://localhost:8080/"
        },
        "id": "pCBsKnAz5jWI",
        "outputId": "d38b598d-8d0e-4a64-b1f8-4a2a963d1745"
      },
      "outputs": [
        {
          "name": "stdout",
          "output_type": "stream",
          "text": [
            "Qual o salário do funcionário? 1000\n",
            "O salário era R$1000.0, com o aumento de R$150.0, ficará R$1150.0.\n"
          ]
        }
      ],
      "source": [
        "salInicial = float(input('Qual o salário do funcionário? '))\n",
        "aumento = (salInicial * 0.15)\n",
        "salFinal = salInicial + aumento\n",
        "\n",
        "print('O salário era R${}, com o aumento de R${}, ficará R${}.'.format(salInicial, aumento, salFinal))"
      ]
    },
    {
      "cell_type": "markdown",
      "metadata": {
        "id": "3iCsbWrwWX0X"
      },
      "source": [
        "## Desafio 014\n",
        "\n",
        "\n",
        "```\n",
        "# Escreva um programa que converta uma temperatura digitando em graus Celsius e converta para graus Fahrenheit.\n",
        "```\n",
        "\n"
      ]
    },
    {
      "cell_type": "code",
      "execution_count": null,
      "metadata": {
        "colab": {
          "base_uri": "https://localhost:8080/"
        },
        "id": "gkp8uEIj6w9z",
        "outputId": "1d29ae1c-e3eb-419d-babf-6804c82f2855"
      },
      "outputs": [
        {
          "name": "stdout",
          "output_type": "stream",
          "text": [
            "Qual a temperatura que deseja converter? (digite apenas os números)40\n",
            "Os 40.0 graus celsius representam 104.0 graus Fahrenheit.\n"
          ]
        }
      ],
      "source": [
        "# conversão de C par F: (36 °C × 9/5) + 32\n",
        "temp = float(input('Qual a temperatura que deseja converter? (digite apenas os números)'))\n",
        "conversor = (temp * 9 / 5) + 32\n",
        "\n",
        "print('Os {} graus celsius representam {} graus Fahrenheit.'.format(temp, conversor))"
      ]
    },
    {
      "cell_type": "markdown",
      "metadata": {
        "id": "EFz5YFRDYVFh"
      },
      "source": [
        "## Desafio 015\n",
        "\n",
        "\n",
        "```\n",
        "# Escreva um programa que pergunte a quantidade de Km percorridos por um carro alugado e a quantidade de dias pelos quais ele foi alugado.\n",
        "Calcule o preço a pagar, sabendo que o carro custa R$60 por dia e R$0,15 por Km rodado.\n",
        "```"
      ]
    },
    {
      "cell_type": "code",
      "execution_count": null,
      "metadata": {
        "colab": {
          "base_uri": "https://localhost:8080/"
        },
        "id": "haMp8or76yf8",
        "outputId": "9c3237a8-9458-4a3a-b63c-5fcca5f9e6b2"
      },
      "outputs": [
        {
          "name": "stdout",
          "output_type": "stream",
          "text": [
            "Quantidade de dias de aluguel? 8\n",
            "Quantos quilômetro o carro andou? 720\n",
            "========================================\n",
            "Você usou o carro por 8 dias, custando R$480.\n",
            "Você andou 720.0 km, custando R$108.0.\n",
            "========================================\n",
            "O custo total ficou R$588.0.\n"
          ]
        }
      ],
      "source": [
        "dias = int(input('Quantidade de dias de aluguel? '))\n",
        "km = float(input('Quantos quilômetro o carro andou? '))\n",
        "custoDias = (dias * 60)\n",
        "custoKm = (km * 0.15)\n",
        "custoTotal = (custoDias + custoKm)\n",
        "\n",
        "print('=' * 40)\n",
        "print('Você usou o carro por {} dias, custando R${}.'.format(dias, custoDias))\n",
        "print('Você andou {} km, custando R${}.'.format(km, custoKm))\n",
        "print('=' * 40)\n",
        "print('O custo total ficou R${}.'.format(custoTotal))"
      ]
    },
    {
      "cell_type": "code",
      "execution_count": null,
      "metadata": {
        "id": "pxB8rory-QQH"
      },
      "outputs": [],
      "source": []
    },
    {
      "cell_type": "markdown",
      "metadata": {
        "id": "MoPRQdTPP1Hy"
      },
      "source": [
        "# Utilizando Módulos"
      ]
    },
    {
      "cell_type": "markdown",
      "metadata": {
        "id": "Pc9hLirtRV2c"
      },
      "source": [
        "Nessa aula, vamos aprender como utilizar módulos em Python utilizando os comandos import e from/import no Python. Veja como carregar bibliotecas de funções e utilizar vários recursos adicionais nos seus programas utilizando módulos built-in e módulos externos, oferecidos no Pypi."
      ]
    },
    {
      "cell_type": "code",
      "execution_count": null,
      "metadata": {
        "id": "A6Juz4T_Ra7c"
      },
      "outputs": [],
      "source": [
        "# Função IMPORT importa toda a biblioteca.\n",
        "# Função FROM importa somente as funcionalidades que quiser da biblioteca"
      ]
    },
    {
      "cell_type": "code",
      "execution_count": null,
      "metadata": {
        "colab": {
          "base_uri": "https://localhost:8080/"
        },
        "id": "QrP8jTKjSk-r",
        "outputId": "3eea405e-72c9-4f87-d14f-97fd8d302273"
      },
      "outputs": [
        {
          "name": "stdout",
          "output_type": "stream",
          "text": [
            "Digite um número: 6\n",
            "A raiz quadrada de6 é 2.449489742783178.\n"
          ]
        }
      ],
      "source": [
        "# Calculando a raíz quadrada com o IMPORT (Biblioteca inteira)\n",
        "import math           # Biblioteca math é para operações matemáticas\n",
        "num = int(input('Digite um número: '))\n",
        "\n",
        "raiz_qua = math.sqrt(num) #\n",
        "print('A raiz quadrada de{} é {}.'.format(num, raiz_qua))"
      ]
    },
    {
      "cell_type": "code",
      "execution_count": null,
      "metadata": {
        "id": "nG7eZyPAT941"
      },
      "outputs": [],
      "source": [
        "# Calculando a raíz quadrada com o FROM (Somente a funcionalidade)\n",
        "from math import sqrt           # Biblioteca math é para operações matemáticas e o SQRT é para calcular a raiz quadrada\n",
        "num = int(input('Digite um número: '))\n",
        "\n",
        "raiz_qua = math.sqrt(num) #\n",
        "print('A raiz quadrada de{} é {}.'.format(num, raiz_qua))"
      ]
    },
    {
      "cell_type": "code",
      "execution_count": null,
      "metadata": {
        "colab": {
          "base_uri": "https://localhost:8080/"
        },
        "id": "YuM2pmQMUmoZ",
        "outputId": "133d1f10-677c-43b4-9a9c-5c4702c6fc4b"
      },
      "outputs": [
        {
          "name": "stdout",
          "output_type": "stream",
          "text": [
            "0.44387453567962576\n"
          ]
        }
      ],
      "source": [
        "# Importando a biblioteca Random\n",
        "import random\n",
        "num = random.random()  #A funcionalidade RANDOM, da biblioteca RANDOM, busca um número real (float) aleatório.\n",
        "print(num)"
      ]
    },
    {
      "cell_type": "code",
      "execution_count": null,
      "metadata": {
        "colab": {
          "base_uri": "https://localhost:8080/"
        },
        "id": "cdHKC5fcVBmt",
        "outputId": "3ab9bcba-48a8-429d-a2dd-571cfec28833"
      },
      "outputs": [
        {
          "name": "stdout",
          "output_type": "stream",
          "text": [
            "94\n"
          ]
        }
      ],
      "source": [
        "# Importando a biblioteca Random\n",
        "import random\n",
        "num = random.randint(1, 100)  #A funcionalidade RANDIT, da biblioteca RANDOM, busca um número inteiro aleatório.\n",
        "print(num)"
      ]
    },
    {
      "cell_type": "code",
      "execution_count": null,
      "metadata": {
        "colab": {
          "base_uri": "https://localhost:8080/"
        },
        "id": "NFGAjmNSVgR2",
        "outputId": "d910b649-791c-4e66-c984-892b91fdcf63"
      },
      "outputs": [
        {
          "name": "stdout",
          "output_type": "stream",
          "text": [
            "Looking in indexes: https://pypi.org/simple, https://us-python.pkg.dev/colab-wheels/public/simple/\n",
            "Collecting emoji\n",
            "  Downloading emoji-2.1.0.tar.gz (216 kB)\n",
            "\u001b[K     |████████████████████████████████| 216 kB 5.1 MB/s \n",
            "\u001b[?25hBuilding wheels for collected packages: emoji\n",
            "  Building wheel for emoji (setup.py) ... \u001b[?25l\u001b[?25hdone\n",
            "  Created wheel for emoji: filename=emoji-2.1.0-py3-none-any.whl size=212392 sha256=d2a7188948dc0012eceb51dcda0d7f532faaaac4228b090a5800e0a0322a8b3e\n",
            "  Stored in directory: /root/.cache/pip/wheels/77/75/99/51c2a119f4cfd3af7b49cc57e4f737bed7e40b348a85d82804\n",
            "Successfully built emoji\n",
            "Installing collected packages: emoji\n",
            "Successfully installed emoji-2.1.0\n"
          ]
        }
      ],
      "source": [
        "!pip install emoji"
      ]
    },
    {
      "cell_type": "code",
      "execution_count": null,
      "metadata": {
        "id": "CTZgXgztYKE0"
      },
      "outputs": [],
      "source": [
        "import emoji"
      ]
    },
    {
      "cell_type": "code",
      "execution_count": null,
      "metadata": {
        "colab": {
          "base_uri": "https://localhost:8080/"
        },
        "id": "85IfUeLgYM5J",
        "outputId": "f6f500c9-876e-4834-bef6-5fd97d11e7a1"
      },
      "outputs": [
        {
          "name": "stdout",
          "output_type": "stream",
          "text": [
            "Olá, Mundo! ❤️\n"
          ]
        }
      ],
      "source": [
        "print(emoji.emojize('Olá, Mundo! :red_heart:', variant='emoji_type'))"
      ]
    },
    {
      "cell_type": "markdown",
      "metadata": {
        "id": "d1HLPqMravbH"
      },
      "source": [
        "## Desafio 016\n",
        "\n",
        "```\n",
        "# Crie um programa que leia um número Real qualquer pelo teclado e mostre na tela a sua porção Inteira.\n",
        "```"
      ]
    },
    {
      "cell_type": "code",
      "execution_count": null,
      "metadata": {
        "colab": {
          "base_uri": "https://localhost:8080/"
        },
        "id": "cThFBLMWbuCX",
        "outputId": "f639e1e2-ab30-4c56-a8d4-b7993beec397"
      },
      "outputs": [
        {
          "name": "stdout",
          "output_type": "stream",
          "text": [
            "Digite um número: 3.1456\n",
            "O número digitado foi 3.1456 e a porção inteira desse número é 3.\n"
          ]
        }
      ],
      "source": [
        "num1 = float(input('Digite um número: '))\n",
        "print('O número digitado foi {} e a porção inteira desse número é {}.'.format(num1, int(num1)))"
      ]
    },
    {
      "cell_type": "code",
      "execution_count": null,
      "metadata": {
        "colab": {
          "base_uri": "https://localhost:8080/"
        },
        "id": "lOBJNnHhfePf",
        "outputId": "da8e7a35-6931-4c8d-9d9b-0e434e9398aa"
      },
      "outputs": [
        {
          "name": "stdout",
          "output_type": "stream",
          "text": [
            "Digite um número: 3.1456\n",
            "O número digitado foi 3.1456 e a porção inteira desse número é 3.\n"
          ]
        }
      ],
      "source": [
        "import math\n",
        "num1 = float(input('Digite um número: '))\n",
        "print('O número digitado foi {} e a porção inteira desse número é {}.'.format(num1, math.trunc(num1)))"
      ]
    },
    {
      "cell_type": "code",
      "execution_count": null,
      "metadata": {
        "colab": {
          "base_uri": "https://localhost:8080/"
        },
        "id": "VXnGAl9bfsWl",
        "outputId": "da8a9323-5437-43ad-f97f-e90bba73eb7b"
      },
      "outputs": [
        {
          "name": "stdout",
          "output_type": "stream",
          "text": [
            "Digite um número: 3.5478\n",
            "O número digitado foi 3.5478 e a porção inteira desse número é 3.\n"
          ]
        }
      ],
      "source": [
        "from math import trunc\n",
        "num1 = float(input('Digite um número: '))\n",
        "print('O número digitado foi {} e a porção inteira desse número é {}.'.format(num1, trunc(num1)))"
      ]
    },
    {
      "cell_type": "code",
      "execution_count": null,
      "metadata": {
        "colab": {
          "base_uri": "https://localhost:8080/"
        },
        "id": "pquGZXRhgZxz",
        "outputId": "c8445f5f-28c3-4803-aa16-1287e62d3fdb"
      },
      "outputs": [
        {
          "name": "stdout",
          "output_type": "stream",
          "text": [
            "Python 3.7.15\n"
          ]
        }
      ],
      "source": [
        "!python --version"
      ]
    },
    {
      "cell_type": "markdown",
      "metadata": {
        "id": "6M5-HCT4berC"
      },
      "source": [
        "## Desafio 017\n",
        "\n",
        "```\n",
        "# Faça um programa que leia o comprimento do cateto oposto e do cateto adjacente de um triângulo retângulo.\n",
        "Calcule e mostre o comprimento da hipotenusa.\n",
        "```"
      ]
    },
    {
      "cell_type": "code",
      "execution_count": null,
      "metadata": {
        "colab": {
          "base_uri": "https://localhost:8080/"
        },
        "id": "nfLcDoVWg4hM",
        "outputId": "31c71868-a780-4668-a5d0-5dbaeda478fb"
      },
      "outputs": [
        {
          "name": "stdout",
          "output_type": "stream",
          "text": [
            "Digite o valor do cateto adjacente: 2\n",
            "Digite o valor do cateto oposto: 2.5\n",
            "A hipotenusa é 3.2015621187164243\n"
          ]
        }
      ],
      "source": [
        "# Pitágoras = o quadrado da hipotenusa é igual a soma dos quadrados dos catetos\n",
        "# h² = a² + b²\n",
        "c1 = float(input('Digite o valor do cateto adjacente: '))\n",
        "c2 = float(input('Digite o valor do cateto oposto: '))\n",
        "h = ((c1 * c1) + (c2 * c2))**(1/2)\n",
        "print('A hipotenusa é {}'.format(h))"
      ]
    },
    {
      "cell_type": "code",
      "execution_count": null,
      "metadata": {
        "colab": {
          "base_uri": "https://localhost:8080/"
        },
        "id": "pNsLryYXkIma",
        "outputId": "dee1aa95-97b6-48b6-b5d5-174eaa840b65"
      },
      "outputs": [
        {
          "name": "stdout",
          "output_type": "stream",
          "text": [
            "Digite o valor do cateto adjacente: 2.5\n",
            "Digite o valor do cateto oposto: 2\n",
            "A hipotenusa é 3.2015621187164243.\n"
          ]
        }
      ],
      "source": [
        "import math\n",
        "c1 = float(input('Digite o valor do cateto adjacente: '))\n",
        "c2 = float(input('Digite o valor do cateto oposto: '))\n",
        "h = math.hypot(c1, c2)\n",
        "print('A hipotenusa é {}.'.format(h))"
      ]
    },
    {
      "cell_type": "code",
      "execution_count": null,
      "metadata": {
        "colab": {
          "base_uri": "https://localhost:8080/"
        },
        "id": "tkT54xxJl-zD",
        "outputId": "2bcc2885-fd4f-4992-f21f-ee168f5c37e0"
      },
      "outputs": [
        {
          "name": "stdout",
          "output_type": "stream",
          "text": [
            "Digite o valor do cateto adjacente: 10\n",
            "Digite o valor do cateto oposto: 5\n",
            "A hipotenusa é 11.180339887498949.\n"
          ]
        }
      ],
      "source": [
        "from math import sqrt\n",
        "c1 = float(input('Digite o valor do cateto adjacente: '))\n",
        "c2 = float(input('Digite o valor do cateto oposto: '))\n",
        "h = sqrt((c1**2) + (c2**2))\n",
        "print('A hipotenusa é {}.'.format(h))"
      ]
    },
    {
      "cell_type": "markdown",
      "metadata": {
        "id": "YJip-hS7bhZU"
      },
      "source": [
        "## Desafio 018\n",
        "\n",
        "```\n",
        "# Faça um programa que leia um ângulo qualquer e mostre na tela o valor do seno, cosseno e tangente desse ângulo.\n",
        "```"
      ]
    },
    {
      "cell_type": "code",
      "execution_count": null,
      "metadata": {
        "colab": {
          "base_uri": "https://localhost:8080/"
        },
        "id": "XfqG_FfNofLq",
        "outputId": "c5987689-3979-4c88-c4d7-b57e642dad6f"
      },
      "outputs": [
        {
          "name": "stdout",
          "output_type": "stream",
          "text": [
            "Digite o ângulo: 45\n",
            "O ângulo 45.0 tem o seno 0.71, o cosseno 0.71 e a tagente 1.00.\n"
          ]
        }
      ],
      "source": [
        "import math\n",
        "angulo = float(input('Digite o ângulo: '))\n",
        "conv = math.radians(angulo)\n",
        "print('O ângulo {} tem o seno {:.2f}, o cosseno {:.2f} e a tagente {:.2f}.'.format(angulo, math.sin(conv), math.cos(conv), math.tan(conv)))"
      ]
    },
    {
      "cell_type": "code",
      "execution_count": null,
      "metadata": {
        "colab": {
          "base_uri": "https://localhost:8080/"
        },
        "id": "ubqpPez7r7zf",
        "outputId": "07b369f9-1c74-44f3-e294-e7991956771b"
      },
      "outputs": [
        {
          "name": "stdout",
          "output_type": "stream",
          "text": [
            "Digite o ângulo: 45\n",
            "O ângulo 45.0 tem o seno 0.71, o cosseno 0.71 e a tagente 1.00.\n"
          ]
        }
      ],
      "source": [
        "from math import radians, sin, cos, tan\n",
        "angulo = float(input('Digite o ângulo: '))\n",
        "conv = radians(angulo)\n",
        "print('O ângulo {} tem o seno {:.2f}, o cosseno {:.2f} e a tagente {:.2f}.'.format(angulo, sin(conv), cos(conv), tan(conv)))"
      ]
    },
    {
      "cell_type": "markdown",
      "metadata": {
        "id": "PES0I7TYbkWG"
      },
      "source": [
        "## Desafio 019\n",
        "\n",
        "```\n",
        "# Um professor quer sortear um dos seus quatro alunos para apagar o quadro.\n",
        "Faça um programa que ajude ele, lendo o nome dos alunos e escrevendo na tela o nome do escolhido.\n",
        "```"
      ]
    },
    {
      "cell_type": "code",
      "execution_count": null,
      "metadata": {
        "colab": {
          "base_uri": "https://localhost:8080/"
        },
        "id": "dIircf_rsKff",
        "outputId": "05c833bc-f0e8-49f5-e994-3787606f40e5"
      },
      "outputs": [
        {
          "name": "stdout",
          "output_type": "stream",
          "text": [
            "Nome 1º aluno: Gus\n",
            "Nome 2º aluno: De\n",
            "Nome 3º aluno: Bia\n",
            "Nome 4º aluno: Ron\n",
            "O nome do aluno escolhido foi: Bia.\n"
          ]
        }
      ],
      "source": [
        "from random import shuffle, choice\n",
        "nome1 = str(input('Nome 1º aluno: '))\n",
        "nome2 = str(input('Nome 2º aluno: '))\n",
        "nome3 = str(input('Nome 3º aluno: '))\n",
        "nome4 = str(input('Nome 4º aluno: '))\n",
        "lista = [nome1, nome2, nome3, nome4]\n",
        "\n",
        "print('O nome do aluno escolhido foi: {}.'.format(choice(lista)))"
      ]
    },
    {
      "cell_type": "markdown",
      "metadata": {
        "id": "DULW1fxObng-"
      },
      "source": [
        "## Desafio 020\n",
        "\n",
        "```\n",
        "# O mesmo professor do desafio 19 quer sortear a ordem de apresentação de trabalhos dos alunos.\n",
        "Faça um programa que leia o nome dos quatro alunos e mostre a ordem sorteada.\n",
        "```"
      ]
    },
    {
      "cell_type": "code",
      "execution_count": null,
      "metadata": {
        "colab": {
          "base_uri": "https://localhost:8080/"
        },
        "id": "Fcthql8lxVqM",
        "outputId": "979b4691-0fa3-4019-dcd4-ee17042d0760"
      },
      "outputs": [
        {
          "name": "stdout",
          "output_type": "stream",
          "text": [
            "Nome 1º aluno: Gustavo\n",
            "Nome 2º aluno: Denise\n",
            "Nome 3º aluno: Ronnie\n",
            "Nome 4º aluno: Beatriz\n",
            "O nome do aluno escolhido foi: ['Beatriz', 'Denise', 'Gustavo', 'Ronnie'].\n"
          ]
        }
      ],
      "source": [
        "from random import shuffle, choice, sample    #No final não precisei usar o shuffle\n",
        "nome1 = str(input('Nome 1º aluno: '))\n",
        "nome2 = str(input('Nome 2º aluno: '))\n",
        "nome3 = str(input('Nome 3º aluno: '))\n",
        "nome4 = str(input('Nome 4º aluno: '))\n",
        "lista = [nome1, nome2, nome3, nome4]\n",
        "lista2 = sample(lista, len(lista))\n",
        "\n",
        "print('O nome do aluno escolhido foi: {}.'.format(lista2))"
      ]
    },
    {
      "cell_type": "code",
      "execution_count": null,
      "metadata": {
        "colab": {
          "base_uri": "https://localhost:8080/"
        },
        "id": "zSXvj2ws0Sli",
        "outputId": "1cfac5bb-8613-49ca-9e4f-962bf3d14aea"
      },
      "outputs": [
        {
          "name": "stdout",
          "output_type": "stream",
          "text": [
            "Nome 1º aluno: 1\n",
            "Nome 2º aluno: 2\n",
            "Nome 3º aluno: 3\n",
            "Nome 4º aluno: 4\n",
            "O nome do aluno escolhido foi: \n",
            "['4', '1', '2', '3']\n"
          ]
        }
      ],
      "source": [
        "from random import shuffle\n",
        "nome1 = str(input('Nome 1º aluno: '))\n",
        "nome2 = str(input('Nome 2º aluno: '))\n",
        "nome3 = str(input('Nome 3º aluno: '))\n",
        "nome4 = str(input('Nome 4º aluno: '))\n",
        "lista = [nome1, nome2, nome3, nome4]\n",
        "shuffle(lista)\n",
        "\n",
        "print('O nome do aluno escolhido foi: ')\n",
        "print(lista)"
      ]
    },
    {
      "cell_type": "code",
      "execution_count": null,
      "metadata": {
        "colab": {
          "base_uri": "https://localhost:8080/"
        },
        "id": "Ja8-GCL01kbh",
        "outputId": "c494d298-6335-481c-d76e-0913ff9aaa1a"
      },
      "outputs": [
        {
          "name": "stdout",
          "output_type": "stream",
          "text": [
            "Nome 1º aluno: Denise\n",
            "Nome 2º aluno: Gustavo\n",
            "Nome 3º aluno: Ronnie\n",
            "Nome 4º aluno: Beatriz\n",
            "O nome do aluno escolhido foi: \n",
            "['Ronnie', 'Gustavo', 'Beatriz', 'Denise']\n"
          ]
        }
      ],
      "source": [
        "from random import shuffle\n",
        "lista = [str(input('Nome 1º aluno: ')), str(input('Nome 2º aluno: ')),\n",
        "         str(input('Nome 3º aluno: ')), str(input('Nome 4º aluno: '))]\n",
        "shuffle(lista)\n",
        "print('O nome do aluno escolhido foi: ')\n",
        "print(lista)"
      ]
    },
    {
      "cell_type": "code",
      "execution_count": null,
      "metadata": {
        "colab": {
          "base_uri": "https://localhost:8080/"
        },
        "id": "DUSsy3vVzywC",
        "outputId": "3b51ad8d-67b6-4564-cabb-e74305cc5911"
      },
      "outputs": [
        {
          "name": "stdout",
          "output_type": "stream",
          "text": [
            "Nome 1º aluno: Gustavo\n",
            "Nome 2º aluno: Denise\n",
            "Nome 3º aluno: Ronnie\n",
            "Nome 4º aluno: Beatriz\n",
            "O nome do aluno escolhido foi: ['Beatriz', 'Gustavo', 'Denise', 'Ronnie'].\n"
          ]
        }
      ],
      "source": [
        "from random import shuffle, choice, sample    #No final não precisei usar o shuffle\n",
        "\n",
        "lista = [str(input('Nome 1º aluno: ')), str(input('Nome 2º aluno: ')),\n",
        "         str(input('Nome 3º aluno: ')), str(input('Nome 4º aluno: '))]\n",
        "\n",
        "print('O nome do aluno escolhido foi: {}.'.format(sample(lista, len(lista))))"
      ]
    },
    {
      "cell_type": "markdown",
      "metadata": {
        "id": "h-b3t_xubpOQ"
      },
      "source": [
        "## Desafio 021\n",
        "\n",
        "```\n",
        "# Faça um programa em Python que abra e reproduza o áudio de um arquivo MP3.\n",
        "```"
      ]
    },
    {
      "cell_type": "code",
      "execution_count": null,
      "metadata": {
        "colab": {
          "base_uri": "https://localhost:8080/"
        },
        "id": "7E4WRilHUdTM",
        "outputId": "767560cc-a447-4def-c1f6-4f4ad5e3463d"
      },
      "outputs": [
        {
          "name": "stdout",
          "output_type": "stream",
          "text": [
            "Looking in indexes: https://pypi.org/simple, https://us-python.pkg.dev/colab-wheels/public/simple/\n",
            "Collecting playground\n",
            "  Using cached playground-0.0.0-py3-none-any.whl (1.5 kB)\n",
            "Requirement already satisfied: gym in /usr/local/lib/python3.7/dist-packages (from playground) (0.25.2)\n",
            "Collecting baselines\n",
            "  Using cached baselines-0.1.5.tar.gz (123 kB)\n",
            "Collecting params-proto\n",
            "  Using cached params_proto-2.10.5-py3-none-any.whl (20 kB)\n",
            "Collecting visdom\n",
            "  Using cached visdom-0.2.3.tar.gz (1.4 MB)\n",
            "Requirement already satisfied: scipy in /usr/local/lib/python3.7/dist-packages (from playground) (1.7.3)\n",
            "Requirement already satisfied: dill in /usr/local/lib/python3.7/dist-packages (from playground) (0.3.5.1)\n",
            "Collecting ml-logger\n",
            "  Using cached ml_logger-0.8.96-py3-none-any.whl (71 kB)\n",
            "Collecting moleskin\n",
            "  Using cached moleskin-1.5.1-py3-none-any.whl (4.3 kB)\n",
            "Requirement already satisfied: tensorflow>=1.4.0 in /usr/local/lib/python3.7/dist-packages (from playground) (2.9.2)\n",
            "Requirement already satisfied: click in /usr/local/lib/python3.7/dist-packages (from playground) (7.1.2)\n",
            "Requirement already satisfied: cloudpickle in /usr/local/lib/python3.7/dist-packages (from playground) (1.5.0)\n",
            "Collecting mujoco-py\n",
            "  Using cached mujoco_py-2.1.2.14-py3-none-any.whl (2.4 MB)\n",
            "Requirement already satisfied: progressbar2 in /usr/local/lib/python3.7/dist-packages (from playground) (3.38.0)\n",
            "Collecting mpi4py\n",
            "  Using cached mpi4py-3.1.3.tar.gz (2.5 MB)\n",
            "  Installing build dependencies ... \u001b[?25l\u001b[?25hdone\n",
            "  Getting requirements to build wheel ... \u001b[?25l\u001b[?25hdone\n",
            "    Preparing wheel metadata ... \u001b[?25l\u001b[?25hdone\n",
            "Collecting zmq\n",
            "  Using cached zmq-0.0.0.zip (2.2 kB)\n",
            "Requirement already satisfied: tqdm in /usr/local/lib/python3.7/dist-packages (from playground) (4.64.1)\n",
            "Requirement already satisfied: joblib in /usr/local/lib/python3.7/dist-packages (from playground) (1.2.0)\n",
            "Requirement already satisfied: typing-extensions>=3.6.6 in /usr/local/lib/python3.7/dist-packages (from tensorflow>=1.4.0->playground) (4.1.1)\n",
            "Requirement already satisfied: tensorflow-io-gcs-filesystem>=0.23.1 in /usr/local/lib/python3.7/dist-packages (from tensorflow>=1.4.0->playground) (0.27.0)\n",
            "Requirement already satisfied: h5py>=2.9.0 in /usr/local/lib/python3.7/dist-packages (from tensorflow>=1.4.0->playground) (3.1.0)\n",
            "Requirement already satisfied: packaging in /usr/local/lib/python3.7/dist-packages (from tensorflow>=1.4.0->playground) (21.3)\n",
            "Requirement already satisfied: tensorflow-estimator<2.10.0,>=2.9.0rc0 in /usr/local/lib/python3.7/dist-packages (from tensorflow>=1.4.0->playground) (2.9.0)\n",
            "Requirement already satisfied: protobuf<3.20,>=3.9.2 in /usr/local/lib/python3.7/dist-packages (from tensorflow>=1.4.0->playground) (3.17.3)\n",
            "Requirement already satisfied: astunparse>=1.6.0 in /usr/local/lib/python3.7/dist-packages (from tensorflow>=1.4.0->playground) (1.6.3)\n",
            "Requirement already satisfied: flatbuffers<2,>=1.12 in /usr/local/lib/python3.7/dist-packages (from tensorflow>=1.4.0->playground) (1.12)\n",
            "Requirement already satisfied: keras<2.10.0,>=2.9.0rc0 in /usr/local/lib/python3.7/dist-packages (from tensorflow>=1.4.0->playground) (2.9.0)\n",
            "Requirement already satisfied: six>=1.12.0 in /usr/local/lib/python3.7/dist-packages (from tensorflow>=1.4.0->playground) (1.15.0)\n",
            "Requirement already satisfied: gast<=0.4.0,>=0.2.1 in /usr/local/lib/python3.7/dist-packages (from tensorflow>=1.4.0->playground) (0.4.0)\n",
            "Requirement already satisfied: absl-py>=1.0.0 in /usr/local/lib/python3.7/dist-packages (from tensorflow>=1.4.0->playground) (1.3.0)\n",
            "Requirement already satisfied: google-pasta>=0.1.1 in /usr/local/lib/python3.7/dist-packages (from tensorflow>=1.4.0->playground) (0.2.0)\n",
            "Requirement already satisfied: opt-einsum>=2.3.2 in /usr/local/lib/python3.7/dist-packages (from tensorflow>=1.4.0->playground) (3.3.0)\n",
            "Requirement already satisfied: wrapt>=1.11.0 in /usr/local/lib/python3.7/dist-packages (from tensorflow>=1.4.0->playground) (1.14.1)\n",
            "Requirement already satisfied: numpy>=1.20 in /usr/local/lib/python3.7/dist-packages (from tensorflow>=1.4.0->playground) (1.21.6)\n",
            "Requirement already satisfied: keras-preprocessing>=1.1.1 in /usr/local/lib/python3.7/dist-packages (from tensorflow>=1.4.0->playground) (1.1.2)\n",
            "Requirement already satisfied: libclang>=13.0.0 in /usr/local/lib/python3.7/dist-packages (from tensorflow>=1.4.0->playground) (14.0.6)\n",
            "Requirement already satisfied: tensorboard<2.10,>=2.9 in /usr/local/lib/python3.7/dist-packages (from tensorflow>=1.4.0->playground) (2.9.1)\n",
            "Requirement already satisfied: termcolor>=1.1.0 in /usr/local/lib/python3.7/dist-packages (from tensorflow>=1.4.0->playground) (2.0.1)\n",
            "Requirement already satisfied: grpcio<2.0,>=1.24.3 in /usr/local/lib/python3.7/dist-packages (from tensorflow>=1.4.0->playground) (1.50.0)\n",
            "Requirement already satisfied: setuptools in /usr/local/lib/python3.7/dist-packages (from tensorflow>=1.4.0->playground) (57.4.0)\n",
            "Requirement already satisfied: wheel<1.0,>=0.23.0 in /usr/local/lib/python3.7/dist-packages (from astunparse>=1.6.0->tensorflow>=1.4.0->playground) (0.37.1)\n",
            "Requirement already satisfied: cached-property in /usr/local/lib/python3.7/dist-packages (from h5py>=2.9.0->tensorflow>=1.4.0->playground) (1.5.2)\n",
            "Requirement already satisfied: google-auth<3,>=1.6.3 in /usr/local/lib/python3.7/dist-packages (from tensorboard<2.10,>=2.9->tensorflow>=1.4.0->playground) (1.35.0)\n",
            "Requirement already satisfied: tensorboard-data-server<0.7.0,>=0.6.0 in /usr/local/lib/python3.7/dist-packages (from tensorboard<2.10,>=2.9->tensorflow>=1.4.0->playground) (0.6.1)\n",
            "Requirement already satisfied: tensorboard-plugin-wit>=1.6.0 in /usr/local/lib/python3.7/dist-packages (from tensorboard<2.10,>=2.9->tensorflow>=1.4.0->playground) (1.8.1)\n",
            "Requirement already satisfied: markdown>=2.6.8 in /usr/local/lib/python3.7/dist-packages (from tensorboard<2.10,>=2.9->tensorflow>=1.4.0->playground) (3.4.1)\n",
            "Requirement already satisfied: requests<3,>=2.21.0 in /usr/local/lib/python3.7/dist-packages (from tensorboard<2.10,>=2.9->tensorflow>=1.4.0->playground) (2.23.0)\n",
            "Requirement already satisfied: werkzeug>=1.0.1 in /usr/local/lib/python3.7/dist-packages (from tensorboard<2.10,>=2.9->tensorflow>=1.4.0->playground) (1.0.1)\n",
            "Requirement already satisfied: google-auth-oauthlib<0.5,>=0.4.1 in /usr/local/lib/python3.7/dist-packages (from tensorboard<2.10,>=2.9->tensorflow>=1.4.0->playground) (0.4.6)\n",
            "Requirement already satisfied: pyasn1-modules>=0.2.1 in /usr/local/lib/python3.7/dist-packages (from google-auth<3,>=1.6.3->tensorboard<2.10,>=2.9->tensorflow>=1.4.0->playground) (0.2.8)\n",
            "Requirement already satisfied: cachetools<5.0,>=2.0.0 in /usr/local/lib/python3.7/dist-packages (from google-auth<3,>=1.6.3->tensorboard<2.10,>=2.9->tensorflow>=1.4.0->playground) (4.2.4)\n",
            "Requirement already satisfied: rsa<5,>=3.1.4 in /usr/local/lib/python3.7/dist-packages (from google-auth<3,>=1.6.3->tensorboard<2.10,>=2.9->tensorflow>=1.4.0->playground) (4.9)\n",
            "Requirement already satisfied: requests-oauthlib>=0.7.0 in /usr/local/lib/python3.7/dist-packages (from google-auth-oauthlib<0.5,>=0.4.1->tensorboard<2.10,>=2.9->tensorflow>=1.4.0->playground) (1.3.1)\n",
            "Requirement already satisfied: importlib-metadata>=4.4 in /usr/local/lib/python3.7/dist-packages (from markdown>=2.6.8->tensorboard<2.10,>=2.9->tensorflow>=1.4.0->playground) (4.13.0)\n",
            "Requirement already satisfied: zipp>=0.5 in /usr/local/lib/python3.7/dist-packages (from importlib-metadata>=4.4->markdown>=2.6.8->tensorboard<2.10,>=2.9->tensorflow>=1.4.0->playground) (3.9.0)\n",
            "Requirement already satisfied: pyasn1<0.5.0,>=0.4.6 in /usr/local/lib/python3.7/dist-packages (from pyasn1-modules>=0.2.1->google-auth<3,>=1.6.3->tensorboard<2.10,>=2.9->tensorflow>=1.4.0->playground) (0.4.8)\n",
            "Requirement already satisfied: chardet<4,>=3.0.2 in /usr/local/lib/python3.7/dist-packages (from requests<3,>=2.21.0->tensorboard<2.10,>=2.9->tensorflow>=1.4.0->playground) (3.0.4)\n",
            "Requirement already satisfied: urllib3!=1.25.0,!=1.25.1,<1.26,>=1.21.1 in /usr/local/lib/python3.7/dist-packages (from requests<3,>=2.21.0->tensorboard<2.10,>=2.9->tensorflow>=1.4.0->playground) (1.24.3)\n",
            "Requirement already satisfied: certifi>=2017.4.17 in /usr/local/lib/python3.7/dist-packages (from requests<3,>=2.21.0->tensorboard<2.10,>=2.9->tensorflow>=1.4.0->playground) (2022.9.24)\n",
            "Requirement already satisfied: idna<3,>=2.5 in /usr/local/lib/python3.7/dist-packages (from requests<3,>=2.21.0->tensorboard<2.10,>=2.9->tensorflow>=1.4.0->playground) (2.10)\n",
            "Requirement already satisfied: oauthlib>=3.0.0 in /usr/local/lib/python3.7/dist-packages (from requests-oauthlib>=0.7.0->google-auth-oauthlib<0.5,>=0.4.1->tensorboard<2.10,>=2.9->tensorflow>=1.4.0->playground) (3.2.2)\n",
            "Requirement already satisfied: gym-notices>=0.0.4 in /usr/local/lib/python3.7/dist-packages (from gym->playground) (0.0.8)\n",
            "\u001b[33mWARNING: gym 0.25.2 does not provide the extra 'robotics'\u001b[0m\n",
            "Collecting imageio>=2.14.1\n",
            "  Using cached imageio-2.22.2-py3-none-any.whl (3.4 MB)\n",
            "Collecting mujoco==2.2.0\n",
            "  Using cached mujoco-2.2.0-cp37-cp37m-manylinux_2_17_x86_64.manylinux2014_x86_64.whl (3.5 MB)\n",
            "Collecting pygame==2.1.0\n",
            "  Using cached pygame-2.1.0-cp37-cp37m-manylinux_2_17_x86_64.manylinux2014_x86_64.whl (18.3 MB)\n",
            "Collecting ale-py~=0.7.5\n",
            "  Using cached ale_py-0.7.5-cp37-cp37m-manylinux_2_17_x86_64.manylinux2014_x86_64.whl (1.6 MB)\n",
            "Requirement already satisfied: pyopengl in /usr/local/lib/python3.7/dist-packages (from mujoco==2.2.0->gym->playground) (3.1.6)\n",
            "Collecting glfw\n",
            "  Using cached glfw-2.5.5-py2.py27.py3.py30.py31.py32.py33.py34.py35.py36.py37.py38-none-manylinux2014_x86_64.whl (207 kB)\n",
            "Requirement already satisfied: importlib-resources in /usr/local/lib/python3.7/dist-packages (from ale-py~=0.7.5->gym->playground) (5.10.0)\n",
            "Collecting pillow>=8.3.2\n",
            "  Using cached Pillow-9.2.0-cp37-cp37m-manylinux_2_17_x86_64.manylinux2014_x86_64.whl (3.1 MB)\n",
            "Collecting scikit-video\n",
            "  Using cached scikit_video-1.1.11-py2.py3-none-any.whl (2.3 MB)\n",
            "Requirement already satisfied: scikit-image in /usr/local/lib/python3.7/dist-packages (from ml-logger->playground) (0.18.3)\n",
            "Collecting typing\n",
            "  Using cached typing-3.7.4.3.tar.gz (78 kB)\n",
            "Collecting ruamel.yaml\n",
            "  Using cached ruamel.yaml-0.17.21-py3-none-any.whl (109 kB)\n",
            "Collecting jaynes>=0.9.0\n",
            "  Using cached jaynes-0.9.2-py3-none-any.whl (39 kB)\n",
            "Collecting pycurl\n",
            "  Using cached pycurl-7.45.1.tar.gz (233 kB)\n",
            "Collecting sanic\n",
            "  Using cached sanic-22.9.0-py3-none-any.whl (173 kB)\n",
            "Collecting cloudpickle\n",
            "  Using cached cloudpickle-1.3.0-py2.py3-none-any.whl (26 kB)\n",
            "Collecting imageio-ffmpeg\n",
            "  Using cached imageio_ffmpeg-0.4.7-py3-none-manylinux2010_x86_64.whl (26.9 MB)\n",
            "Collecting requests-futures\n",
            "  Using cached requests_futures-1.0.0-py2.py3-none-any.whl (7.4 kB)\n",
            "Collecting boto3\n",
            "  Using cached boto3-1.25.2-py3-none-any.whl (132 kB)\n",
            "Requirement already satisfied: matplotlib in /usr/local/lib/python3.7/dist-packages (from ml-logger->playground) (3.2.2)\n",
            "Collecting expandvars\n",
            "  Using cached expandvars-0.9.0-py3-none-any.whl (6.6 kB)\n",
            "Collecting requests-toolbelt\n",
            "  Using cached requests_toolbelt-0.10.1-py2.py3-none-any.whl (54 kB)\n",
            "Requirement already satisfied: more-itertools in /usr/local/lib/python3.7/dist-packages (from ml-logger->playground) (9.0.0)\n",
            "Requirement already satisfied: google-cloud-storage in /usr/local/lib/python3.7/dist-packages (from ml-logger->playground) (1.18.1)\n",
            "Collecting sanic-cors\n",
            "  Using cached Sanic_Cors-2.2.0-py2.py3-none-any.whl (18 kB)\n",
            "Collecting wcmatch\n",
            "  Using cached wcmatch-8.4.1-py3-none-any.whl (39 kB)\n",
            "Requirement already satisfied: google-api-python-client in /usr/local/lib/python3.7/dist-packages (from ml-logger->playground) (1.12.11)\n",
            "Collecting functional-notations\n",
            "  Using cached functional_notations-0.5.2-py3-none-any.whl (3.1 kB)\n",
            "Collecting aiofile\n",
            "  Using cached aiofile-3.8.1.tar.gz (18 kB)\n",
            "Requirement already satisfied: pyyaml in /usr/local/lib/python3.7/dist-packages (from jaynes>=0.9.0->ml-logger->playground) (6.0)\n",
            "Collecting argcomplete\n",
            "  Using cached argcomplete-2.0.0-py2.py3-none-any.whl (37 kB)\n",
            "Collecting waterbear>=2.6.5\n",
            "  Using cached waterbear-2.6.6-py3-none-any.whl (9.5 kB)\n",
            "Collecting argparse\n",
            "  Using cached argparse-1.4.0-py2.py3-none-any.whl (23 kB)\n",
            "Collecting caio~=0.9.0\n",
            "  Using cached caio-0.9.8-cp37-cp37m-manylinux_2_12_x86_64.manylinux2010_x86_64.whl (87 kB)\n",
            "Collecting jmespath<2.0.0,>=0.7.1\n",
            "  Using cached jmespath-1.0.1-py3-none-any.whl (20 kB)\n",
            "Collecting s3transfer<0.7.0,>=0.6.0\n",
            "  Using cached s3transfer-0.6.0-py3-none-any.whl (79 kB)\n",
            "Collecting botocore<1.29.0,>=1.28.2\n",
            "  Using cached botocore-1.28.2-py3-none-any.whl (9.3 MB)\n",
            "Collecting urllib3!=1.25.0,!=1.25.1,<1.26,>=1.21.1\n",
            "  Using cached urllib3-1.25.11-py2.py3-none-any.whl (127 kB)\n",
            "Requirement already satisfied: python-dateutil<3.0.0,>=2.1 in /usr/local/lib/python3.7/dist-packages (from botocore<1.29.0,>=1.28.2->boto3->ml-logger->playground) (2.8.2)\n",
            "Requirement already satisfied: google-auth-httplib2>=0.0.3 in /usr/local/lib/python3.7/dist-packages (from google-api-python-client->ml-logger->playground) (0.0.4)\n",
            "Requirement already satisfied: google-api-core<3dev,>=1.21.0 in /usr/local/lib/python3.7/dist-packages (from google-api-python-client->ml-logger->playground) (1.31.6)\n",
            "Requirement already satisfied: httplib2<1dev,>=0.15.0 in /usr/local/lib/python3.7/dist-packages (from google-api-python-client->ml-logger->playground) (0.17.4)\n",
            "Requirement already satisfied: uritemplate<4dev,>=3.0.0 in /usr/local/lib/python3.7/dist-packages (from google-api-python-client->ml-logger->playground) (3.0.1)\n",
            "Requirement already satisfied: pytz in /usr/local/lib/python3.7/dist-packages (from google-api-core<3dev,>=1.21.0->google-api-python-client->ml-logger->playground) (2022.5)\n",
            "Requirement already satisfied: googleapis-common-protos<2.0dev,>=1.6.0 in /usr/local/lib/python3.7/dist-packages (from google-api-core<3dev,>=1.21.0->google-api-python-client->ml-logger->playground) (1.56.4)\n",
            "Requirement already satisfied: pyparsing!=3.0.5,>=2.0.2 in /usr/local/lib/python3.7/dist-packages (from packaging->tensorflow>=1.4.0->playground) (3.0.9)\n",
            "Requirement already satisfied: google-resumable-media<0.5.0dev,>=0.3.1 in /usr/local/lib/python3.7/dist-packages (from google-cloud-storage->ml-logger->playground) (0.4.1)\n",
            "Requirement already satisfied: google-cloud-core<2.0dev,>=1.0.0 in /usr/local/lib/python3.7/dist-packages (from google-cloud-storage->ml-logger->playground) (1.0.3)\n",
            "Requirement already satisfied: cycler>=0.10 in /usr/local/lib/python3.7/dist-packages (from matplotlib->ml-logger->playground) (0.11.0)\n",
            "Requirement already satisfied: kiwisolver>=1.0.1 in /usr/local/lib/python3.7/dist-packages (from matplotlib->ml-logger->playground) (1.4.4)\n",
            "Collecting moleskin\n",
            "  Using cached moleskin-1.5.0-py3-none-any.whl (4.3 kB)\n",
            "  Using cached moleskin-1.4.0-py3-none-any.whl (5.3 kB)\n",
            "  Using cached moleskin-1.3.1-py3-none-any.whl (5.2 kB)\n",
            "  Using cached moleskin-1.3.0-py3-none-any.whl (5.1 kB)\n",
            "  Using cached moleskin-1.2.0-py3-none-any.whl (5.1 kB)\n",
            "  Using cached moleskin-1.1.1-py3-none-any.whl (5.1 kB)\n",
            "  Using cached moleskin-1.1.0-py3-none-any.whl (5.1 kB)\n",
            "  Using cached moleskin-1.0.0-py3-none-any.whl (5.1 kB)\n",
            "  Using cached moleskin-0.1.1-py3-none-any.whl (5.0 kB)\n",
            "  Using cached moleskin-0.1.0-py3-none-any.whl (5.0 kB)\n",
            "  Using cached moleskin-0.0.8-py3-none-any.whl (4.5 kB)\n",
            "  Using cached moleskin-0.0.7-py3-none-any.whl (4.3 kB)\n",
            "  Using cached moleskin-0.0.6-py3-none-any.whl (4.2 kB)\n",
            "  Using cached moleskin-0.0.5-py3-none-any.whl (4.0 kB)\n",
            "  Using cached moleskin-0.0.4-py3-none-any.whl (4.0 kB)\n",
            "  Using cached moleskin-0.0.3-py3-none-any.whl (4.0 kB)\n",
            "  Using cached moleskin-0.0.2-py3-none-any.whl (3.9 kB)\n",
            "  Using cached moleskin-0.0.1-py3-none-any.whl (3.9 kB)\n",
            "  Using cached moleskin-0.0.0-py3-none-any.whl (3.6 kB)\n",
            "INFO: pip is looking at multiple versions of kiwisolver to determine which version is compatible with other requirements. This could take a while.\n",
            "Collecting kiwisolver>=1.0.1\n",
            "  Using cached kiwisolver-1.4.4-cp37-cp37m-manylinux_2_5_x86_64.manylinux1_x86_64.whl (1.1 MB)\n",
            "  Using cached kiwisolver-1.4.3-cp37-cp37m-manylinux_2_5_x86_64.manylinux1_x86_64.whl (1.1 MB)\n",
            "  Using cached kiwisolver-1.4.2-cp37-cp37m-manylinux_2_5_x86_64.manylinux1_x86_64.whl (1.1 MB)\n",
            "  Using cached kiwisolver-1.4.1-cp37-cp37m-manylinux_2_5_x86_64.manylinux1_x86_64.whl (1.1 MB)\n",
            "  Using cached kiwisolver-1.4.0-cp37-cp37m-manylinux_2_5_x86_64.manylinux1_x86_64.whl (1.1 MB)\n",
            "  Using cached kiwisolver-1.3.2-cp37-cp37m-manylinux_2_5_x86_64.manylinux1_x86_64.whl (1.1 MB)\n",
            "  Using cached kiwisolver-1.3.1-cp37-cp37m-manylinux1_x86_64.whl (1.1 MB)\n",
            "INFO: pip is looking at multiple versions of kiwisolver to determine which version is compatible with other requirements. This could take a while.\n",
            "  Using cached kiwisolver-1.2.0-cp37-cp37m-manylinux1_x86_64.whl (88 kB)\n",
            "  Using cached kiwisolver-1.1.0-cp37-cp37m-manylinux1_x86_64.whl (90 kB)\n",
            "  Using cached kiwisolver-1.0.1-cp37-cp37m-manylinux1_x86_64.whl (89 kB)\n",
            "INFO: pip is looking at multiple versions of cycler to determine which version is compatible with other requirements. This could take a while.\n",
            "Collecting cycler>=0.10\n",
            "  Using cached cycler-0.11.0-py3-none-any.whl (6.4 kB)\n",
            "INFO: This is taking longer than usual. You might need to provide the dependency resolver with stricter constraints to reduce runtime. If you want to abort this run, you can press Ctrl + C to do so. To improve how pip performs, tell us what happened here: https://pip.pypa.io/surveys/backtracking\n",
            "  Using cached cycler-0.10.0-py2.py3-none-any.whl (6.5 kB)\n",
            "INFO: pip is looking at multiple versions of matplotlib to determine which version is compatible with other requirements. This could take a while.\n",
            "Collecting matplotlib\n",
            "  Using cached matplotlib-3.5.3-cp37-cp37m-manylinux_2_5_x86_64.manylinux1_x86_64.whl (11.2 MB)\n",
            "Collecting fonttools>=4.22.0\n",
            "  Using cached fonttools-4.38.0-py3-none-any.whl (965 kB)\n",
            "INFO: pip is looking at multiple versions of fonttools to determine which version is compatible with other requirements. This could take a while.\n",
            "  Using cached fonttools-4.37.4-py3-none-any.whl (960 kB)\n",
            "  Using cached fonttools-4.37.3-py3-none-any.whl (959 kB)\n",
            "  Using cached fonttools-4.37.2-py3-none-any.whl (959 kB)\n",
            "  Using cached fonttools-4.37.1-py3-none-any.whl (957 kB)\n",
            "  Using cached fonttools-4.37.0-py3-none-any.whl (956 kB)\n",
            "  Using cached fonttools-4.36.0-py3-none-any.whl (950 kB)\n",
            "  Using cached fonttools-4.35.0-py3-none-any.whl (947 kB)\n",
            "INFO: pip is looking at multiple versions of fonttools to determine which version is compatible with other requirements. This could take a while.\n",
            "  Using cached fonttools-4.34.4-py3-none-any.whl (944 kB)\n",
            "  Using cached fonttools-4.34.3-py3-none-any.whl (944 kB)\n",
            "  Using cached fonttools-4.34.2-py3-none-any.whl (944 kB)\n",
            "  Using cached fonttools-4.34.1-py3-none-any.whl (943 kB)\n",
            "  Using cached fonttools-4.34.0-py3-none-any.whl (943 kB)\n",
            "INFO: This is taking longer than usual. You might need to provide the dependency resolver with stricter constraints to reduce runtime. If you want to abort this run, you can press Ctrl + C to do so. To improve how pip performs, tell us what happened here: https://pip.pypa.io/surveys/backtracking\n",
            "  Using cached fonttools-4.33.3-py3-none-any.whl (930 kB)\n",
            "  Using cached fonttools-4.33.2-py3-none-any.whl (930 kB)\n",
            "  Using cached fonttools-4.33.1-py3-none-any.whl (930 kB)\n",
            "  Using cached fonttools-4.33.0-py3-none-any.whl (929 kB)\n",
            "  Using cached fonttools-4.32.0-py3-none-any.whl (900 kB)\n",
            "  Using cached fonttools-4.31.2-py3-none-any.whl (899 kB)\n",
            "  Using cached fonttools-4.31.1-py3-none-any.whl (899 kB)\n",
            "  Using cached fonttools-4.31.0-py3-none-any.whl (899 kB)\n",
            "  Using cached fonttools-4.30.0-py3-none-any.whl (898 kB)\n",
            "  Using cached fonttools-4.29.1-py3-none-any.whl (895 kB)\n",
            "  Using cached fonttools-4.29.0-py3-none-any.whl (895 kB)\n",
            "  Using cached fonttools-4.28.5-py3-none-any.whl (890 kB)\n",
            "  Using cached fonttools-4.28.4-py3-none-any.whl (885 kB)\n",
            "  Using cached fonttools-4.28.3-py3-none-any.whl (884 kB)\n",
            "  Using cached fonttools-4.28.2-py3-none-any.whl (880 kB)\n",
            "  Using cached fonttools-4.28.1-py3-none-any.whl (873 kB)\n",
            "  Using cached fonttools-4.28.0-py3-none-any.whl (873 kB)\n",
            "  Using cached fonttools-4.27.1-py3-none-any.whl (869 kB)\n",
            "  Using cached fonttools-4.27.0-py3-none-any.whl (869 kB)\n",
            "  Using cached fonttools-4.26.2-py3-none-any.whl (870 kB)\n",
            "  Using cached fonttools-4.26.1-py3-none-any.whl (870 kB)\n",
            "  Using cached fonttools-4.26.0-py3-none-any.whl (870 kB)\n",
            "  Using cached fonttools-4.25.2-py3-none-any.whl (868 kB)\n",
            "  Using cached fonttools-4.25.1-py3-none-any.whl (868 kB)\n",
            "  Using cached fonttools-4.25.0-py3-none-any.whl (867 kB)\n",
            "  Using cached fonttools-4.24.4-py3-none-any.whl (854 kB)\n",
            "  Using cached fonttools-4.24.3-py3-none-any.whl (854 kB)\n",
            "  Using cached fonttools-4.24.2-py3-none-any.whl (853 kB)\n",
            "  Using cached fonttools-4.24.1-py3-none-any.whl (853 kB)\n",
            "  Using cached fonttools-4.24.0-py3-none-any.whl (853 kB)\n",
            "  Using cached fonttools-4.23.1-py3-none-any.whl (853 kB)\n",
            "  Using cached fonttools-4.23.0-py3-none-any.whl (852 kB)\n",
            "  Using cached fonttools-4.22.1-py3-none-any.whl (850 kB)\n",
            "  Using cached fonttools-4.22.0-py3-none-any.whl (850 kB)\n",
            "Collecting matplotlib\n",
            "  Using cached matplotlib-3.5.2-cp37-cp37m-manylinux_2_5_x86_64.manylinux1_x86_64.whl (11.2 MB)\n",
            "INFO: pip is looking at multiple versions of cycler to determine which version is compatible with other requirements. This could take a while.\n",
            "  Using cached matplotlib-3.5.1-cp37-cp37m-manylinux_2_5_x86_64.manylinux1_x86_64.whl (11.2 MB)\n",
            "  Using cached matplotlib-3.5.0-cp37-cp37m-manylinux_2_5_x86_64.manylinux1_x86_64.whl (11.2 MB)\n",
            "Collecting setuptools-scm>=4\n",
            "  Using cached setuptools_scm-7.0.5-py3-none-any.whl (42 kB)\n",
            "Requirement already satisfied: tomli>=1.0.0 in /usr/local/lib/python3.7/dist-packages (from setuptools-scm>=4->matplotlib->ml-logger->playground) (2.0.1)\n",
            "INFO: pip is looking at multiple versions of tomli to determine which version is compatible with other requirements. This could take a while.\n",
            "Collecting tomli>=1.0.0\n",
            "  Using cached tomli-2.0.1-py3-none-any.whl (12 kB)\n",
            "  Using cached tomli-2.0.0-py3-none-any.whl (12 kB)\n",
            "  Using cached tomli-1.2.3-py3-none-any.whl (12 kB)\n",
            "  Using cached tomli-1.2.2-py3-none-any.whl (12 kB)\n",
            "  Using cached tomli-1.2.1-py3-none-any.whl (11 kB)\n",
            "  Using cached tomli-1.2.0-py3-none-any.whl (11 kB)\n",
            "  Using cached tomli-1.1.0-py3-none-any.whl (11 kB)\n",
            "INFO: pip is looking at multiple versions of tomli to determine which version is compatible with other requirements. This could take a while.\n",
            "  Using cached tomli-1.0.4-py3-none-any.whl (11 kB)\n",
            "  Using cached tomli-1.0.3-py3-none-any.whl (11 kB)\n",
            "  Using cached tomli-1.0.2-py3-none-any.whl (11 kB)\n",
            "  Using cached tomli-1.0.1-py3-none-any.whl (11 kB)\n",
            "  Using cached tomli-1.0.0-py3-none-any.whl (11 kB)\n",
            "INFO: This is taking longer than usual. You might need to provide the dependency resolver with stricter constraints to reduce runtime. If you want to abort this run, you can press Ctrl + C to do so. To improve how pip performs, tell us what happened here: https://pip.pypa.io/surveys/backtracking\n",
            "INFO: pip is looking at multiple versions of setuptools-scm to determine which version is compatible with other requirements. This could take a while.\n",
            "Collecting setuptools-scm>=4\n",
            "  Using cached setuptools_scm-7.0.4-py3-none-any.whl (42 kB)\n",
            "  Using cached setuptools_scm-7.0.3-py3-none-any.whl (42 kB)\n",
            "  Using cached setuptools_scm-7.0.2-py3-none-any.whl (40 kB)\n",
            "  Using cached setuptools_scm-7.0.1-py3-none-any.whl (40 kB)\n",
            "  Using cached setuptools_scm-6.4.2-py3-none-any.whl (37 kB)\n",
            "  Using cached setuptools_scm-6.4.1-py3-none-any.whl (37 kB)\n",
            "  Using cached setuptools_scm-6.4.0-py3-none-any.whl (36 kB)\n",
            "INFO: pip is looking at multiple versions of setuptools-scm to determine which version is compatible with other requirements. This could take a while.\n",
            "  Using cached setuptools_scm-6.3.2-py3-none-any.whl (33 kB)\n",
            "  Using cached setuptools_scm-6.3.1-py3-none-any.whl (33 kB)\n",
            "  Using cached setuptools_scm-6.0.1-py3-none-any.whl (27 kB)\n",
            "  Using cached setuptools_scm-6.0.0-py3-none-any.whl (27 kB)\n",
            "  Using cached setuptools_scm-5.0.2-py2.py3-none-any.whl (29 kB)\n",
            "INFO: This is taking longer than usual. You might need to provide the dependency resolver with stricter constraints to reduce runtime. If you want to abort this run, you can press Ctrl + C to do so. To improve how pip performs, tell us what happened here: https://pip.pypa.io/surveys/backtracking\n",
            "  Using cached setuptools_scm-5.0.1-py2.py3-none-any.whl (28 kB)\n",
            "  Using cached setuptools_scm-5.0.0-py2.py3-none-any.whl (28 kB)\n",
            "  Using cached setuptools_scm-4.1.2-py2.py3-none-any.whl (27 kB)\n",
            "  Using cached setuptools_scm-4.1.1-py2.py3-none-any.whl (27 kB)\n",
            "  Using cached setuptools_scm-4.1.0-py2.py3-none-any.whl (27 kB)\n",
            "  Using cached setuptools_scm-4.0.0-py3-none-any.whl (25 kB)\n",
            "\u001b[31mERROR: Operation cancelled by user\u001b[0m\n",
            "Traceback (most recent call last):\n",
            "  File \"/usr/local/lib/python3.7/dist-packages/pip/_internal/cli/base_command.py\", line 180, in _main\n",
            "    status = self.run(options, args)\n",
            "  File \"/usr/local/lib/python3.7/dist-packages/pip/_internal/cli/req_command.py\", line 199, in wrapper\n",
            "    return func(self, options, args)\n",
            "  File \"/usr/local/lib/python3.7/dist-packages/pip/_internal/commands/install.py\", line 319, in run\n",
            "    reqs, check_supported_wheels=not options.target_dir\n",
            "  File \"/usr/local/lib/python3.7/dist-packages/pip/_internal/resolution/resolvelib/resolver.py\", line 128, in resolve\n",
            "    requirements, max_rounds=try_to_avoid_resolution_too_deep\n",
            "  File \"/usr/local/lib/python3.7/dist-packages/pip/_vendor/resolvelib/resolvers.py\", line 473, in resolve\n",
            "    state = resolution.resolve(requirements, max_rounds=max_rounds)\n",
            "  File \"/usr/local/lib/python3.7/dist-packages/pip/_vendor/resolvelib/resolvers.py\", line 367, in resolve\n",
            "    failure_causes = self._attempt_to_pin_criterion(name)\n",
            "  File \"/usr/local/lib/python3.7/dist-packages/pip/_vendor/resolvelib/resolvers.py\", line 213, in _attempt_to_pin_criterion\n",
            "    criteria = self._get_criteria_to_update(candidate)\n",
            "  File \"/usr/local/lib/python3.7/dist-packages/pip/_vendor/resolvelib/resolvers.py\", line 202, in _get_criteria_to_update\n",
            "    for r in self._p.get_dependencies(candidate=candidate):\n",
            "  File \"/usr/local/lib/python3.7/dist-packages/pip/_internal/resolution/resolvelib/provider.py\", line 175, in get_dependencies\n",
            "    return [r for r in candidate.iter_dependencies(with_requires) if r is not None]\n",
            "  File \"/usr/local/lib/python3.7/dist-packages/pip/_internal/resolution/resolvelib/provider.py\", line 175, in <listcomp>\n",
            "    return [r for r in candidate.iter_dependencies(with_requires) if r is not None]\n",
            "  File \"/usr/local/lib/python3.7/dist-packages/pip/_internal/resolution/resolvelib/candidates.py\", line 262, in iter_dependencies\n",
            "    yield self._get_requires_python_dependency()\n",
            "  File \"/usr/local/lib/python3.7/dist-packages/pip/_internal/resolution/resolvelib/candidates.py\", line 246, in _get_requires_python_dependency\n",
            "    requires_python = get_requires_python(self.dist)\n",
            "  File \"/usr/local/lib/python3.7/dist-packages/pip/_internal/utils/packaging.py\", line 72, in get_requires_python\n",
            "    pkg_info_dict = get_metadata(dist)\n",
            "  File \"/usr/local/lib/python3.7/dist-packages/pip/_internal/utils/packaging.py\", line 62, in get_metadata\n",
            "    feed_parser.feed(metadata)\n",
            "  File \"/usr/lib/python3.7/email/feedparser.py\", line 176, in feed\n",
            "    self._call_parse()\n",
            "  File \"/usr/lib/python3.7/email/feedparser.py\", line 180, in _call_parse\n",
            "    self._parse()\n",
            "  File \"/usr/lib/python3.7/email/feedparser.py\", line 228, in _parsegen\n",
            "    if not headerRE.match(line):\n",
            "KeyboardInterrupt\n",
            "\n",
            "During handling of the above exception, another exception occurred:\n",
            "\n",
            "Traceback (most recent call last):\n",
            "  File \"/usr/local/bin/pip3\", line 8, in <module>\n",
            "    sys.exit(main())\n",
            "  File \"/usr/local/lib/python3.7/dist-packages/pip/_internal/cli/main.py\", line 71, in main\n",
            "    return command.main(cmd_args)\n",
            "  File \"/usr/local/lib/python3.7/dist-packages/pip/_internal/cli/base_command.py\", line 104, in main\n",
            "    return self._main(args)\n",
            "  File \"/usr/local/lib/python3.7/dist-packages/pip/_internal/cli/base_command.py\", line 212, in _main\n",
            "    logger.critical(\"Operation cancelled by user\")\n",
            "  File \"/usr/lib/python3.7/logging/__init__.py\", line 1425, in critical\n",
            "    self._log(CRITICAL, msg, args, **kwargs)\n",
            "  File \"/usr/lib/python3.7/logging/__init__.py\", line 1514, in _log\n",
            "    self.handle(record)\n",
            "  File \"/usr/lib/python3.7/logging/__init__.py\", line 1524, in handle\n",
            "    self.callHandlers(record)\n",
            "  File \"/usr/lib/python3.7/logging/__init__.py\", line 1586, in callHandlers\n",
            "    hdlr.handle(record)\n",
            "  File \"/usr/lib/python3.7/logging/__init__.py\", line 894, in handle\n",
            "    self.emit(record)\n",
            "  File \"/usr/lib/python3.7/logging/handlers.py\", line 71, in emit\n",
            "    logging.FileHandler.emit(self, record)\n",
            "  File \"/usr/lib/python3.7/logging/__init__.py\", line 1127, in emit\n",
            "    StreamHandler.emit(self, record)\n",
            "  File \"/usr/lib/python3.7/logging/__init__.py\", line 1029, in emit\n",
            "    self.flush()\n",
            "  File \"/usr/lib/python3.7/logging/__init__.py\", line 1009, in flush\n",
            "    self.stream.flush()\n",
            "KeyboardInterrupt\n"
          ]
        }
      ],
      "source": [
        "!pip install playground"
      ]
    },
    {
      "cell_type": "markdown",
      "metadata": {
        "id": "YGoA1iE02QSI"
      },
      "source": [
        "# Manipulando Textos"
      ]
    },
    {
      "cell_type": "code",
      "execution_count": null,
      "metadata": {
        "colab": {
          "base_uri": "https://localhost:8080/"
        },
        "id": "eEc-bq_iYI8K",
        "outputId": "be1895e1-0d1a-423f-e1ab-4b1e04ac6669"
      },
      "outputs": [
        {
          "name": "stdout",
          "output_type": "stream",
          "text": [
            "Essa variável possui 23 caracteres.\n",
            "v\n",
            "Curso em\n",
            "Curso em\n",
            "vídeo - Python\n",
            "- Python\n"
          ]
        }
      ],
      "source": [
        "# Fatiando uma variável STRING\n",
        "\n",
        "frase = 'Curso em vídeo - Python'\n",
        "print(f'Essa variável possui {len(frase)} caracteres.')\n",
        "\n",
        "print(frase[9])    # Busca o caracter 10 da string. Lembrando que Python começa a contagem do 0. 'Curso em v => V é o 9º caracter.\n",
        "\n",
        "print(frase[0:8])\n",
        "\n",
        "print(frase[:8])\n",
        "\n",
        "print(frase[9:23])  # Seleciona do 9º até o 23º caracter.\n",
        "\n",
        "print(frase[15:])   # Seleciona do 15º caracter até o final da string."
      ]
    },
    {
      "cell_type": "code",
      "execution_count": null,
      "metadata": {
        "colab": {
          "base_uri": "https://localhost:8080/",
          "height": 35
        },
        "id": "Fg0C5XMKjJGl",
        "outputId": "fd8126ad-a28d-4dbc-a959-207ad648df1e"
      },
      "outputs": [
        {
          "data": {
            "application/vnd.google.colaboratory.intrinsic+json": {
              "type": "string"
            },
            "text/plain": [
              "'Curso em vídeo - Python'"
            ]
          },
          "execution_count": 31,
          "metadata": {},
          "output_type": "execute_result"
        }
      ],
      "source": [
        "# Analisando uma STRING\n",
        "\n",
        "frase = 'Curso em vídeo - Python'\n",
        "\n",
        "len(frase)   # Conta o número de caracteres de uma String, um intervalo, tupla, lista, dicionário.\n",
        "\n",
        "frase.count('o')  # Quantidade devezes que a letr \"o\" aparece na variável frase.\n",
        "\n",
        "frase.count('o', 0, 13)  # O count busca um caracter específico e posso fatiar o intervalo que quiser.\n",
        "\n",
        "frase.find('deo')  # Mostra a posição em que encontramos os caracteres desejados.\n",
        "\n",
        "frase.find('Android') # Caso seja solicitado para \"encontrar\" palavras, ou caracteres que não estão na string, o Python retorna como \"-1\"\n",
        "\n",
        "'Curso' in frase # Outra for de averiguar se encontramos uma palavra, letra ou caracter é utilizando o IN, que vai retornar TRUE ou FALSE.\n",
        "\n",
        "frase.replace('Python', 'Androide') # Replace é um método que substituí.\n",
        "\n",
        "frase.upper()     # Transforma todas as letras/caracteres em MAIÙSCULAS.\n",
        "\n",
        "frase.lower()     # Transforma todas as letras/caracteres em MINÚSCULAS.\n",
        "\n",
        "frase.capitalize() # Transforma apenas a PRIMEIRA letra/caracter em MAIÚSCULA.\n",
        "\n",
        "frase.title()     # Transforma todas as palavras com o PRIMEIRO caracter em MAIÚSCULO.\n",
        "\n",
        "frase1 = 'Curso em vídeo - Python'\n",
        "\n",
        "frase1.strip() # Remove os espaços no início e final das strings.\n",
        "\n",
        "frase1.rstrip() # Remove os espaços no final das strings.\n",
        "\n",
        "frase1.lstrip() # Remove os espaços no início das strings."
      ]
    },
    {
      "cell_type": "code",
      "execution_count": null,
      "metadata": {
        "colab": {
          "base_uri": "https://localhost:8080/"
        },
        "id": "27-AgLN8jNzt",
        "outputId": "5c421110-29be-455a-a23e-cdd57c812330"
      },
      "outputs": [
        {
          "data": {
            "text/plain": [
              "['Curso', 'em', 'vídeo', '-', 'Python']"
            ]
          },
          "execution_count": 33,
          "metadata": {},
          "output_type": "execute_result"
        }
      ],
      "source": [
        "# Dividindo Strings\n",
        "\n",
        "frase.split()  # Gera uma lista com palavras da cadeia de caracteres."
      ]
    },
    {
      "cell_type": "code",
      "execution_count": null,
      "metadata": {
        "id": "dsaQMQPmjOgE"
      },
      "outputs": [],
      "source": [
        "# Juntando Strings\n",
        "\n",
        "'-'.join(frase)"
      ]
    },
    {
      "cell_type": "markdown",
      "metadata": {
        "id": "ob4m0lSpbqWN"
      },
      "source": [
        "## Desafio 022\n",
        "\n",
        "```\n",
        "# Crie um programa que leia o nome completo de uma pessoa e mostre:\n",
        "– O nome com todas as letras maiúsculas e minúsculas.\n",
        "– Quantas letras ao todo (sem considerar espaços).\n",
        "– Quantas letras tem o primeiro nome.\n",
        "```"
      ]
    },
    {
      "cell_type": "code",
      "execution_count": null,
      "metadata": {
        "colab": {
          "base_uri": "https://localhost:8080/"
        },
        "id": "al2doeVikpk_",
        "outputId": "526c2092-2734-4fd2-bcb6-77b0ca34ca0c"
      },
      "outputs": [
        {
          "name": "stdout",
          "output_type": "stream",
          "text": [
            "Qual o seu nome completo? Denise Montenegro\n",
            "Seu nome em letra maiúscula fica DENISE MONTENEGRO\n",
            "Seu nome em letra minúscula fica denise montenegro\n",
            "Seu nome possui 16 caracteres\n",
            "O seu primeiro nome possui 6 letras.\n",
            "Seu primeiro nome é Denise e possui6 letras\n"
          ]
        }
      ],
      "source": [
        "name = str(input('Qual o seu nome completo? ')).strip() # Tira os espaço de arrancada.\n",
        "\n",
        "print(f'Seu nome em letra maiúscula fica {name.upper()}')\n",
        "print(f'Seu nome em letra minúscula fica {name.lower()}')\n",
        "print(f'Seu nome possui {len(name) - name.count(\" \")} caracteres')\n",
        "print(f'O seu primeiro nome possui {name.find(\" \")} letras.')\n",
        "\n",
        "# Outra forma de fazer:\n",
        "separa = name.split()\n",
        "print(f'Seu primeiro nome é {separa[0]} e possui {len(separa[0])} letras')"
      ]
    },
    {
      "cell_type": "markdown",
      "metadata": {
        "id": "cnwIcizsismt"
      },
      "source": [
        "## Desafio 023\n",
        "\n",
        "```\n",
        "# Faça um programa que leia um número de 0 a 9999 e mostre na tela cada um dos dígitos separados.\n",
        "```"
      ]
    },
    {
      "cell_type": "code",
      "execution_count": null,
      "metadata": {
        "colab": {
          "base_uri": "https://localhost:8080/"
        },
        "id": "ACg71ACJqZ__",
        "outputId": "aaece2a9-a916-4636-abd6-29c976500524"
      },
      "outputs": [
        {
          "name": "stdout",
          "output_type": "stream",
          "text": [
            "Digite um número de 0 a 9999: 5482\n",
            "Unidade = 2.\n",
            "Dezena = 8.\n",
            "Centena = 4.\n",
            "Milhar = 5.\n"
          ]
        }
      ],
      "source": [
        "n = int(input('Digite um número de 0 a 9999: '))\n",
        "u = n // 1 % 10\n",
        "d = n // 10 % 10\n",
        "c = n // 100 % 10\n",
        "m = n // 1000 % 10\n",
        "\n",
        "print(f'Unidade = {u}.')\n",
        "print(f'Dezena = {d}.')\n",
        "print(f'Centena = {c}.')\n",
        "print(f'Milhar = {m}.')"
      ]
    },
    {
      "cell_type": "markdown",
      "metadata": {
        "id": "YQyVi8TOis-e"
      },
      "source": [
        "## Desafio 024\n",
        "\n",
        "```\n",
        "# Crie um programa que leia o nome de uma cidade diga se ela começa ou não com o nome “SANTO”.\n",
        "```"
      ]
    },
    {
      "cell_type": "code",
      "execution_count": null,
      "metadata": {
        "colab": {
          "base_uri": "https://localhost:8080/"
        },
        "id": "SKAw-pCitFmk",
        "outputId": "c6ff5e84-741f-42ae-e406-f160dd21dd17"
      },
      "outputs": [
        {
          "name": "stdout",
          "output_type": "stream",
          "text": [
            "Coloque o nome da sua cidade: SANTO Manézinho\n",
            "O nome da cidade começa com Santo?  True\n"
          ]
        }
      ],
      "source": [
        "city = input('Coloque o nome da sua cidade: ').title().split()\n",
        "print(f'O nome da cidade começa com Santo? ', 'Santo' in city[0])"
      ]
    },
    {
      "cell_type": "code",
      "execution_count": null,
      "metadata": {
        "colab": {
          "base_uri": "https://localhost:8080/"
        },
        "id": "GoiJRm_u0sxp",
        "outputId": "3891920c-9b82-4b66-9584-edd088c7f6b0"
      },
      "outputs": [
        {
          "name": "stdout",
          "output_type": "stream",
          "text": [
            "Coloque o nome da sua cidade:  SANTO Manézinho\n",
            "True\n"
          ]
        }
      ],
      "source": [
        "city = input('Coloque o nome da sua cidade: ').upper().strip()\n",
        "print(city[:5] =='SANTO')"
      ]
    },
    {
      "cell_type": "markdown",
      "metadata": {
        "id": "ykizQ4JditN-"
      },
      "source": [
        "## Desafio 025\n",
        "\n",
        "```\n",
        "# Crie um programa que leia o nome de uma pessoa e diga se ela tem “SILVA” no nome.\n",
        "```"
      ]
    },
    {
      "cell_type": "code",
      "execution_count": null,
      "metadata": {
        "colab": {
          "base_uri": "https://localhost:8080/"
        },
        "id": "Zw-lpLPIvMuM",
        "outputId": "5fb59fa6-8366-49f0-eba2-844c4c4e5608"
      },
      "outputs": [
        {
          "name": "stdout",
          "output_type": "stream",
          "text": [
            "Coloque o nome da sua cidade:     Carlos da sILVA Albuquerque Joaquim\n",
            "O seu nome tem Silva?  True\n"
          ]
        }
      ],
      "source": [
        "nome = input('Coloque seu nome completo: ').title().strip()\n",
        "print(f'O seu nome tem Silva? ', 'Silva' in nome)"
      ]
    },
    {
      "cell_type": "markdown",
      "metadata": {
        "id": "07HTqoBNitYG"
      },
      "source": [
        "## Desafio 026\n",
        "\n",
        "```\n",
        "# Faça um programa que leia uma frase pelo teclado e mostre quantas vezes aparece a letra “A”.\n",
        "E em que posição ela aparece a primeira vez e em que posição ela aparece a última vez.\n",
        "```"
      ]
    },
    {
      "cell_type": "code",
      "execution_count": null,
      "metadata": {
        "colab": {
          "base_uri": "https://localhost:8080/"
        },
        "id": "cYQJ5j9O23_L",
        "outputId": "9824f80b-7ba3-42ec-94ae-baa605e985d4"
      },
      "outputs": [
        {
          "name": "stdout",
          "output_type": "stream",
          "text": [
            "Digite uma frase: Adeusminha amiga safada.\n",
            "Contei 7 vezes a letra A e aparee a primeira vez na posição 0.\n"
          ]
        }
      ],
      "source": [
        "frase = str(input('Digite uma frase: ')).strip().upper()\n",
        "cont = frase.count('A')\n",
        "first = frase.find('A')\n",
        "print(f'Contei {cont} vezes a letra A e aparee a primeira vez na posição {first}.')"
      ]
    },
    {
      "cell_type": "code",
      "execution_count": null,
      "metadata": {
        "colab": {
          "base_uri": "https://localhost:8080/"
        },
        "id": "84brb68Q4Cf6",
        "outputId": "043e6946-08d4-4d21-dd17-b2aee2a5cd23"
      },
      "outputs": [
        {
          "name": "stdout",
          "output_type": "stream",
          "text": [
            "Digite uma frase: Adeus minha amiga safada.\n",
            "Contei 7 vezes a letra \"A\".\n",
            "E aparece a primeira vez na posição 0.\n",
            "A última posição em que aparece é a 23.\n"
          ]
        }
      ],
      "source": [
        "frase = str(input('Digite uma frase: ')).strip().upper()\n",
        "print(f'Contei {frase.count(\"A\")} vezes a letra \"A\".')\n",
        "print(f'E aparece a primeira vez na posição {frase.find(\"A\")}.')\n",
        "print(f'A última posição em que aparece é a {frase.rfind(\"A\")}.')"
      ]
    },
    {
      "cell_type": "markdown",
      "metadata": {
        "id": "nbt0bdtkitf1"
      },
      "source": [
        "## Desafio 027\n",
        "\n",
        "```\n",
        "# Faça um programa que leia o nome completo de uma pessoa, mostrando em seguida o primeiro e o último nome separadamente.\n",
        "```"
      ]
    },
    {
      "cell_type": "code",
      "execution_count": null,
      "metadata": {
        "colab": {
          "base_uri": "https://localhost:8080/"
        },
        "id": "WSKy8cvn6BaB",
        "outputId": "6f71109d-b942-4d8d-8ed3-9c389fb3a2a0"
      },
      "outputs": [
        {
          "name": "stdout",
          "output_type": "stream",
          "text": [
            "Digite seu nome completo:    Denise Maria MonteNEGRO timponi GOes crUZ\n",
            "O primeiro nome é Denise.\n",
            "O último nome é Cruz.\n"
          ]
        }
      ],
      "source": [
        "name = str(input('Digite seu nome completo: ')).strip().title().split()\n",
        "print(f'O primeiro nome é {name[0]}.')\n",
        "print(f'O último nome é {name[len(name)-1]}.')"
      ]
    },
    {
      "cell_type": "code",
      "execution_count": null,
      "metadata": {
        "id": "917O4HPe8KvE"
      },
      "outputs": [],
      "source": [
        "# Perfeito! Igual a resolução do professor. Muito bom Gustavo!"
      ]
    },
    {
      "cell_type": "markdown",
      "metadata": {
        "id": "imO_5EYT-CIC"
      },
      "source": [
        "# Condições em Pytho (If, elif, else..)"
      ]
    },
    {
      "cell_type": "markdown",
      "metadata": {
        "id": "vCdTMNVM-SDg"
      },
      "source": [
        "## Desafio 028\n",
        "\n",
        "```\n",
        "# Escreva um programa que faça o computador “pensar” em um número inteiro entre 0 e 5 e\n",
        "peça para o usuário tentar descobrir qual foi o número escolhido pelo computador.\n",
        "O programa deverá escrever na tela se o usuário venceu ou perdeu.\n",
        "```"
      ]
    },
    {
      "cell_type": "code",
      "execution_count": null,
      "metadata": {
        "colab": {
          "base_uri": "https://localhost:8080/"
        },
        "id": "ZtewW_gr3QKN",
        "outputId": "975f4a63-8d1e-44d7-89bc-22724db699a5"
      },
      "outputs": [
        {
          "name": "stdout",
          "output_type": "stream",
          "text": [
            "****************************************\n",
            "Vou pensar em um número de 0 a 5.\n",
            "****************************************\n",
            "Qual o número que eu pensei? 0\n",
            "Processando...\n",
            "****************************************\n",
            "Você digitou 0. O sistema escolheu 0.\n",
            "****************************************\n",
            "Parabéns! Você acertou o número!\n"
          ]
        }
      ],
      "source": [
        "import random, time\n",
        "\n",
        "print('*'*40)\n",
        "print('Vou pensar em um número de 0 a 5.')\n",
        "print('*'*40)\n",
        "\n",
        "n = int(input('Qual o número que eu pensei? '))\n",
        "r = random.randint(0, 5)\n",
        "\n",
        "print('Processando...')\n",
        "time.sleep(3)\n",
        "\n",
        "print('*'*40)\n",
        "print(f'Você digitou {n}. O sistema escolheu {r}.')\n",
        "print('*'*40)\n",
        "if n == r:\n",
        "  print('Parabéns! Você acertou o número!')\n",
        "else:\n",
        "  print('Hoje não deu... Tente novamente!')"
      ]
    },
    {
      "cell_type": "markdown",
      "metadata": {
        "id": "YKG8Ke1t-SkA"
      },
      "source": [
        "## Desafio 029\n",
        "\n",
        "```\n",
        "# Escreva um programa que leia a velocidade de um carro. Se ele ultrapassar 80Km/h, mostre uma mensagem dizendo que ele foi multado.\n",
        "A multa vai custar R$7,00 por cada Km acima do limite.\n",
        "```"
      ]
    },
    {
      "cell_type": "code",
      "execution_count": null,
      "metadata": {
        "colab": {
          "base_uri": "https://localhost:8080/"
        },
        "id": "tcV2zGmZ3PZm",
        "outputId": "51327a0c-0f1a-400a-9f54-1c2796e1ea82"
      },
      "outputs": [
        {
          "name": "stdout",
          "output_type": "stream",
          "text": [
            "Qual a velocidade do carro? 100\n",
            "Você está andando a 100.0 km/h, ultrapassou o limite de velocidade. Você será multado!\n",
            "O valor da multa será de aproximadamente R$ 140.00.\n"
          ]
        }
      ],
      "source": [
        "v = float(input('Qual a velocidade do carro? '))\n",
        "multa = 7\n",
        "if v > 80:\n",
        "  print(f'Você está andando a {v} km/h, ultrapassou o limite de velocidade. Você será multado!')\n",
        "  print(f'O valor da multa será de aproximadamente R$ {multa * (v - 80):.2f}.')\n",
        "else:\n",
        "  print(f'Parabéns, você está dirigindo a {v} km/h, dentro do limite de velocidade.')\n",
        "  print(f'Você é um motorista legal!')\n"
      ]
    },
    {
      "cell_type": "markdown",
      "metadata": {
        "id": "-_5YJu7S-TbY"
      },
      "source": [
        "## Desafio 030\n",
        "\n",
        "```\n",
        "# Crie um programa que leia um número inteiro e mostre na tela se ele é PAR ou ÍMPAR.\n",
        "```"
      ]
    },
    {
      "cell_type": "code",
      "execution_count": null,
      "metadata": {
        "colab": {
          "base_uri": "https://localhost:8080/"
        },
        "id": "SC4mvsNHBX8c",
        "outputId": "2cd70dfc-4adf-45e6-bded-367e59fb42f6"
      },
      "outputs": [
        {
          "name": "stdout",
          "output_type": "stream",
          "text": [
            "Digite o número que quer saber se é par ou ímpar: 121\n",
            "O número é ímpar!\n"
          ]
        }
      ],
      "source": [
        "n = int(input('Digite o número que quer saber se é par ou ímpar: '))\n",
        "\n",
        "if n % 2 == 0:\n",
        "  print('Essa número é par!')\n",
        "else:\n",
        "  print('O número é ímpar!')"
      ]
    },
    {
      "cell_type": "markdown",
      "metadata": {
        "id": "dWwZPRJt-TpI"
      },
      "source": [
        "## Desafio 031\n",
        "\n",
        "```\n",
        "# Desenvolva um programa que pergunte a distância de uma viagem em Km.\n",
        "Calcule o preço da passagem, cobrando R$0,50 por Km para viagens de até 200Km e R$0,45 parta viagens mais longas.\n",
        "```"
      ]
    },
    {
      "cell_type": "code",
      "execution_count": null,
      "metadata": {
        "colab": {
          "base_uri": "https://localhost:8080/"
        },
        "id": "bVLhb5qWClUy",
        "outputId": "68eab88f-7ad8-4276-e9c5-e8ad878b3732"
      },
      "outputs": [
        {
          "name": "stdout",
          "output_type": "stream",
          "text": [
            "Qual a distância da sua viagem? 500\n",
            "Para viagens acima de 200 km o valor é promocional!\n",
            "O preço dessa viagem é R$ 225.00.\n",
            "++++++++++++++++++++++++++++++++++++++++\n",
            "Viaje sempre com agente!\n",
            "++++++++++++++++++++++++++++++++++++++++\n"
          ]
        }
      ],
      "source": [
        "dist = float(input('Qual a distância da sua viagem? '))\n",
        "\n",
        "if dist > 200:\n",
        "  print(f'Para viagens acima de 200 km o valor é promocional!')\n",
        "  print(f'O preço dessa viagem é R$ {dist * 0.45:.2f}.')\n",
        "else:\n",
        "  print(f'Como a distância é inferior a 200 km o valor é normal.')\n",
        "  print(f'O preço dessa viagem é R$ {dist * 0.5:.2f}.')\n",
        "print('+' * 40)\n",
        "print('Viaje sempre com agente!')\n",
        "print('+' * 40)"
      ]
    },
    {
      "cell_type": "markdown",
      "metadata": {
        "id": "25yeCOZX-T4I"
      },
      "source": [
        "## Desafio 032\n",
        "\n",
        "```\n",
        "# Faça um programa que leia um ano qualquer e mostre se ele é bissexto.\n",
        "```"
      ]
    },
    {
      "cell_type": "code",
      "execution_count": null,
      "metadata": {
        "colab": {
          "base_uri": "https://localhost:8080/"
        },
        "id": "Zb2CINFHGHsd",
        "outputId": "ee610fb8-aea3-4ca5-e017-16b2dde289e5"
      },
      "outputs": [
        {
          "name": "stdout",
          "output_type": "stream",
          "text": [
            "Qual o ano que gostaria de conferir se é bissexto? 1700\n",
            "O ano 1700 NÃO é bissexto!\n"
          ]
        }
      ],
      "source": [
        "import datetime\n",
        "\n",
        "ano = int(input('Qual o ano que gostaria de conferir se é bissexto? '))\n",
        "\n",
        "if ano == 0:\n",
        "  ano = datetime.date.today().year\n",
        "if ano % 4 == 0 and ano % 100 != 0 or ano % 400 == 0:\n",
        "  print(f'O ano {ano} É1 bissexto!')\n",
        "else:\n",
        "  print(f'O ano {ano} NÃO é bissexto!')"
      ]
    },
    {
      "cell_type": "markdown",
      "metadata": {
        "id": "0tL6evEc-UD4"
      },
      "source": [
        "## Desafio 033\n",
        "\n",
        "```\n",
        "# Faça um programa que leia três números e mostre qual é o maior e qual é o menor.\n",
        "```"
      ]
    },
    {
      "cell_type": "code",
      "execution_count": null,
      "metadata": {
        "colab": {
          "base_uri": "https://localhost:8080/"
        },
        "id": "SouJ17nYm2sV",
        "outputId": "292cdcbd-823c-4585-ab3b-8a49596c740a"
      },
      "outputs": [
        {
          "name": "stdout",
          "output_type": "stream",
          "text": [
            "Digite o 1º número: 1006\n",
            "Digite o 2º número: 4568\n",
            "Digite o 3º número: 1257\n",
            "O maior número é 4568.\n",
            "O mnor número é 1006.\n"
          ]
        }
      ],
      "source": [
        "n1 = int(input('Digite o 1º número: '))\n",
        "n2 = int(input('Digite o 2º número: '))\n",
        "n3 = int(input('Digite o 3º número: '))\n",
        "\n",
        "if n1 > n2 and n1 > n3:\n",
        "  print(f'O maior número é {n1}.')\n",
        "else:\n",
        "  if n2 > n1 and n2 > n3:\n",
        "    print(f'O maior número é {n2}.')\n",
        "  else:\n",
        "    print(f'O maior número é {n3}.')\n",
        "if n1 < n2 and n1 < n3:\n",
        "  print(f'O mnor número é {n1}.')\n",
        "else:\n",
        "  if n2 < n1 and n2 < n3:\n",
        "    print(f'O menor número é {n2}.')\n",
        "  else:\n",
        "    print(f'O menor número é {n3}.')"
      ]
    },
    {
      "cell_type": "code",
      "execution_count": null,
      "metadata": {
        "colab": {
          "base_uri": "https://localhost:8080/"
        },
        "id": "pR3QAvqxr7U3",
        "outputId": "640aada2-a906-41cf-f04e-c44256447361"
      },
      "outputs": [
        {
          "name": "stdout",
          "output_type": "stream",
          "text": [
            "Digite o 1º nº: 1006\n",
            "Digite o 2º nº: 4587\n",
            "Digite o 3º nº:1257\n",
            "O maior nº é 4587.\n",
            "O menor nº é 1006.\n"
          ]
        }
      ],
      "source": [
        "n1 = int(input('Digite o 1º nº: '))\n",
        "n2 = int(input('Digite o 2º nº: '))\n",
        "n3 = int(input('Digite o 3º nº:' ))\n",
        "maior = 0\n",
        "menor = 0\n",
        "if n1 > n2 and n1 > n2:\n",
        "  maior = n1\n",
        "if n2 > n1 and n2 > n3:\n",
        "  maior = n2\n",
        "else:\n",
        "  maior = n3\n",
        "if n1 < n2 and n1 < n2:\n",
        "  menor = n1\n",
        "if n2 < n1 and n2 < n3:\n",
        "  menor = n2\n",
        "if n3 < n1 and n3 < n2:\n",
        "  menor = n3\n",
        "print(f'O maior nº é {maior}.')\n",
        "print(f'O menor nº é {menor}.')"
      ]
    },
    {
      "cell_type": "code",
      "execution_count": null,
      "metadata": {
        "colab": {
          "base_uri": "https://localhost:8080/"
        },
        "id": "he0RWrtvvaF2",
        "outputId": "a1f06dfa-d075-483c-ef9b-0ab4e6333fdc"
      },
      "outputs": [
        {
          "name": "stdout",
          "output_type": "stream",
          "text": [
            "Digite o 1º nº: 8\n",
            "Digite o 2º nº: 4\n",
            "Digite o 3º nº:36\n",
            "O maior nº é 36.\n",
            "O menor nº é 4.\n"
          ]
        }
      ],
      "source": [
        "n1 = int(input('Digite o 1º nº: '))\n",
        "n2 = int(input('Digite o 2º nº: '))\n",
        "n3 = int(input('Digite o 3º nº:' ))\n",
        "\n",
        "# Verificando o MAIOR número.\n",
        "maior = n1\n",
        "if n2 > n1 and n2 > n3:\n",
        "  maior = n2\n",
        "if n3 > n1 and n3 > n2:\n",
        "  maior = n3\n",
        "# Verificando o MENOR número.\n",
        "menor = n1\n",
        "if n2 < n1 and n2 < n3:\n",
        "  menor = n2\n",
        "if n3 < n1 and n3 < n2:\n",
        "  menor = n3\n",
        "print(f'O maior nº é {maior}.')\n",
        "print(f'O menor nº é {menor}.')"
      ]
    },
    {
      "cell_type": "code",
      "execution_count": null,
      "metadata": {
        "colab": {
          "base_uri": "https://localhost:8080/"
        },
        "id": "tYOr1WZpqfsB",
        "outputId": "675174a0-71e6-4d75-ac8e-ba52d2e9d3c4"
      },
      "outputs": [
        {
          "name": "stdout",
          "output_type": "stream",
          "text": [
            "Digite o 1º número: 8\n",
            "Digite o 2º número: 12\n",
            "Digite o 3º número: 78\n",
            "O maior número é 78.\n",
            "O menor número é 8.\n"
          ]
        }
      ],
      "source": [
        "n1 = int(input('Digite o 1º número: '))\n",
        "n2 = int(input('Digite o 2º número: '))\n",
        "n3 = int(input('Digite o 3º número: '))\n",
        "lista = [n1, n2, n3]\n",
        "\n",
        "print(f'O maior número é {max(lista)}.')\n",
        "print(f'O menor número é {min(lista)}.')"
      ]
    },
    {
      "cell_type": "markdown",
      "metadata": {
        "id": "KYYthX97-UOw"
      },
      "source": [
        "## Desafio 034\n",
        "\n",
        "```\n",
        "# Escreva um programa que pergunte o salário de um funcionário e calcule o valor do seu aumento.\n",
        "Para salários superiores a R$1250,00, calcule um aumento de 10%. Para os inferiores ou iguais, o aumento é de 15%.\n",
        "```"
      ]
    },
    {
      "cell_type": "code",
      "execution_count": null,
      "metadata": {
        "colab": {
          "base_uri": "https://localhost:8080/"
        },
        "id": "Oe3zaYGgHxpv",
        "outputId": "c02c4f26-2a5b-4b37-96d6-ae2fb277d7d8"
      },
      "outputs": [
        {
          "name": "stdout",
          "output_type": "stream",
          "text": [
            "==================================================================\n",
            "===================== Verifique seu aumento ======================\n",
            "==================================================================\n",
            "Qual o seu salário atual? 1250.00000001\n",
            "==================================================================\n",
            "Seu salário atual é R$ 1250.00 e receberá um aumento de 10%.\n",
            "Com o reajuste você receberá R$ 1375.00, ou seja, R$ 125.00 a mais.\n",
            "==================================================================\n"
          ]
        }
      ],
      "source": [
        "slo = ' Verifique seu aumento '\n",
        "print('='*66)\n",
        "print(f'{slo:=^66}')\n",
        "print('='*66)\n",
        "pay = float(input('Qual o seu salário atual? '))\n",
        "print('='*66)\n",
        "if pay > 1250:\n",
        "  print(f'Seu salário atual é R$ {pay:.2f} e receberá um aumento de 10%.')\n",
        "  print(f'Com o reajuste você receberá R$ {(pay * 0.10) + pay:.2f}, ou seja, R$ {pay * 0.10:.2f} a mais.')\n",
        "else:\n",
        "  print(f'Seu salário atual é R$ {pay:.2f} e receberá um aumento de 15%.')\n",
        "  print(f'Com o reajuste você receberá R$ {(pay * 0.15) + pay:.2f}, ou seja, R$ {pay * 0.15:.2f} a mais.')\n",
        "print('='*66)"
      ]
    },
    {
      "cell_type": "markdown",
      "metadata": {
        "id": "b4KIwBth-UZ4"
      },
      "source": [
        "## Desafio 035\n",
        "\n",
        "```\n",
        "# Desenvolva um programa que leia o comprimento de três retas e diga ao usuário se elas podem ou não formar um triângulo.\n",
        "```"
      ]
    },
    {
      "cell_type": "code",
      "execution_count": null,
      "metadata": {
        "colab": {
          "base_uri": "https://localhost:8080/"
        },
        "id": "hkT2LJcw2ql0",
        "outputId": "d25c2223-de4d-4e81-e07d-0cfcaff1925a"
      },
      "outputs": [
        {
          "name": "stdout",
          "output_type": "stream",
          "text": [
            "Digite o 1º lado do triângulo: 9\n",
            "Digite o 2º lado do triângulo: 7\n",
            "Digite o 3º lado do triângulo: 8\n",
            "Triângulo ok\n"
          ]
        }
      ],
      "source": [
        "# Só irá existir um triângulo se, somente se, os seus lados obedeceram à seguinte regra:\n",
        "# um de seus lados deve ser maior que o valor absoluto (módulo) da diferença dos outros dois lados\n",
        "# e menor que a soma dos outros dois lados\n",
        "a = int(input('Digite o 1º lado do triângulo: '))\n",
        "b = int(input('Digite o 2º lado do triângulo: '))\n",
        "c = int(input('Digite o 3º lado do triângulo: '))\n",
        "if a > (b - c) and a < (b + c) and b > (a - c) and b < (a + c) and c > (a - b) and c < (a + b):\n",
        "  print('Triângulo ok')\n",
        "else:\n",
        "  print('Triângulo não ok')"
      ]
    },
    {
      "cell_type": "markdown",
      "metadata": {
        "id": "T-aFjoVN_CyF"
      },
      "source": [
        "# Adicionando Cores em Python"
      ]
    },
    {
      "cell_type": "code",
      "execution_count": null,
      "metadata": {
        "colab": {
          "base_uri": "https://localhost:8080/"
        },
        "id": "Wr77Txi8__eN",
        "outputId": "efcac11b-9acd-43de-f243-a24165df236f"
      },
      "outputs": [
        {
          "data": {
            "text/plain": [
              "9"
            ]
          },
          "execution_count": 85,
          "metadata": {},
          "output_type": "execute_result"
        }
      ],
      "source": [
        "19 // 2"
      ]
    }
  ],
  "metadata": {
    "colab": {
      "collapsed_sections": [
        "FynDzqShXgnP",
        "0NJp02tsXQwl",
        "SI2snjueX3Ri",
        "DF7Kmp8XWDNc",
        "rjcbdfYNWV-3",
        "MU5ui8yZjwTM",
        "MoPRQdTPP1Hy",
        "YGoA1iE02QSI",
        "ob4m0lSpbqWN",
        "cnwIcizsismt",
        "YQyVi8TOis-e",
        "ykizQ4JditN-",
        "07HTqoBNitYG",
        "nbt0bdtkitf1",
        "imO_5EYT-CIC",
        "vCdTMNVM-SDg",
        "YKG8Ke1t-SkA",
        "-_5YJu7S-TbY",
        "dWwZPRJt-TpI",
        "25yeCOZX-T4I",
        "0tL6evEc-UD4"
      ],
      "provenance": [],
      "toc_visible": true,
      "include_colab_link": true
    },
    "kernelspec": {
      "display_name": "Python 3",
      "name": "python3"
    },
    "language_info": {
      "name": "python"
    }
  },
  "nbformat": 4,
  "nbformat_minor": 0
}